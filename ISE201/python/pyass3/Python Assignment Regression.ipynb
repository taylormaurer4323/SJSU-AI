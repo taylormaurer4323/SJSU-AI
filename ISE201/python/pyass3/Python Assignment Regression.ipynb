{
 "cells": [
  {
   "cell_type": "markdown",
   "metadata": {},
   "source": [
    "For the assignment I'll be using the hockey data (12.1.12). For this I will be treating the y variable as number of wins and the other variables will be treated as the independent variables. Thus the linear regression analysis will seek to find out A) what are the most important things for number of wins, and B) if we can create a model to accurately predict the number of wins a team can get. "
   ]
  },
  {
   "cell_type": "code",
   "execution_count": 792,
   "metadata": {},
   "outputs": [],
   "source": [
    "from IPython.core.interactiveshell import InteractiveShell\n",
    "InteractiveShell.ast_node_interactivity = \"all\""
   ]
  },
  {
   "cell_type": "code",
   "execution_count": 793,
   "metadata": {},
   "outputs": [],
   "source": [
    "# Import libraries\n",
    "import pandas as pd\n",
    "import numpy as np\n",
    "from sklearn.model_selection import train_test_split\n",
    "from sklearn.preprocessing import StandardScaler\n",
    "from sklearn.linear_model import LinearRegression\n",
    "from sklearn.metrics import mean_squared_error, make_scorer\n",
    "import statsmodels.api as sm # import statsmodels \n",
    "from statsmodels.formula.api import ols\n",
    "import statsmodels.stats.api as sms\n",
    "from statsmodels.compat import lzip\n",
    "from statsmodels.stats.outliers_influence import OLSInfluence\n",
    "import matplotlib.pyplot as plt\n",
    "import math"
   ]
  },
  {
   "cell_type": "code",
   "execution_count": 794,
   "metadata": {},
   "outputs": [],
   "source": [
    "myDataFrame = pd.read_csv(\"national_hockey_league_12_1_12.csv\")"
   ]
  },
  {
   "cell_type": "markdown",
   "metadata": {},
   "source": [
    "For the column headers below, I've defined the acronmys:\n",
    "W - Win Count\n",
    "L - Loss Count\n",
    "OTL - overtime loss\n",
    "PTS - points (2 for win, 1 for a tie or losing in OT, 0 for loss)\n",
    "GF - goals for\n",
    "GA - goals against\n",
    "ADV - total power play opportunties\n",
    "PPGF - Power Play Goals For\n",
    "PCTG - Power play percentage (PP goals/ADV)\n",
    "PEN - Penalty Minutes\n",
    "BMI - Total bench minor minutes\n",
    "AVG - Average penalty minutes per game\n",
    "SHT - Total times short handed\n",
    "PPGA - Power Play Goals Against\n",
    "PKPCT - Penalty KLilling percentage\n",
    "SHGF - Short handed goals for\n",
    "SHGA - Short handed goals against\n",
    "FG - Games Scored First"
   ]
  },
  {
   "cell_type": "code",
   "execution_count": 795,
   "metadata": {},
   "outputs": [
    {
     "data": {
      "text/html": [
       "<div>\n",
       "<style scoped>\n",
       "    .dataframe tbody tr th:only-of-type {\n",
       "        vertical-align: middle;\n",
       "    }\n",
       "\n",
       "    .dataframe tbody tr th {\n",
       "        vertical-align: top;\n",
       "    }\n",
       "\n",
       "    .dataframe thead th {\n",
       "        text-align: right;\n",
       "    }\n",
       "</style>\n",
       "<table border=\"1\" class=\"dataframe\">\n",
       "  <thead>\n",
       "    <tr style=\"text-align: right;\">\n",
       "      <th></th>\n",
       "      <th>Team</th>\n",
       "      <th>W</th>\n",
       "      <th>L</th>\n",
       "      <th>OTL</th>\n",
       "      <th>PTS</th>\n",
       "      <th>GF</th>\n",
       "      <th>GA</th>\n",
       "      <th>ADV</th>\n",
       "      <th>PPGF</th>\n",
       "      <th>PCTG</th>\n",
       "      <th>PEN</th>\n",
       "      <th>BMI</th>\n",
       "      <th>AVG</th>\n",
       "      <th>SHT</th>\n",
       "      <th>PPGA</th>\n",
       "      <th>PKPCT</th>\n",
       "      <th>SHGF</th>\n",
       "      <th>SHGA</th>\n",
       "      <th>FG</th>\n",
       "    </tr>\n",
       "  </thead>\n",
       "  <tbody>\n",
       "    <tr>\n",
       "      <th>0</th>\n",
       "      <td>Anaheim</td>\n",
       "      <td>42</td>\n",
       "      <td>33</td>\n",
       "      <td>7</td>\n",
       "      <td>91</td>\n",
       "      <td>238</td>\n",
       "      <td>235</td>\n",
       "      <td>309</td>\n",
       "      <td>73</td>\n",
       "      <td>23.6</td>\n",
       "      <td>1418</td>\n",
       "      <td>8</td>\n",
       "      <td>17.4</td>\n",
       "      <td>385</td>\n",
       "      <td>78</td>\n",
       "      <td>79.7</td>\n",
       "      <td>6</td>\n",
       "      <td>6</td>\n",
       "      <td>43</td>\n",
       "    </tr>\n",
       "    <tr>\n",
       "      <th>1</th>\n",
       "      <td>Atlanta</td>\n",
       "      <td>35</td>\n",
       "      <td>41</td>\n",
       "      <td>6</td>\n",
       "      <td>76</td>\n",
       "      <td>250</td>\n",
       "      <td>279</td>\n",
       "      <td>357</td>\n",
       "      <td>69</td>\n",
       "      <td>19.3</td>\n",
       "      <td>1244</td>\n",
       "      <td>12</td>\n",
       "      <td>15.3</td>\n",
       "      <td>366</td>\n",
       "      <td>88</td>\n",
       "      <td>76.0</td>\n",
       "      <td>13</td>\n",
       "      <td>9</td>\n",
       "      <td>39</td>\n",
       "    </tr>\n",
       "    <tr>\n",
       "      <th>2</th>\n",
       "      <td>Boston</td>\n",
       "      <td>53</td>\n",
       "      <td>19</td>\n",
       "      <td>10</td>\n",
       "      <td>116</td>\n",
       "      <td>270</td>\n",
       "      <td>190</td>\n",
       "      <td>313</td>\n",
       "      <td>74</td>\n",
       "      <td>23.6</td>\n",
       "      <td>1016</td>\n",
       "      <td>12</td>\n",
       "      <td>12.5</td>\n",
       "      <td>306</td>\n",
       "      <td>54</td>\n",
       "      <td>82.4</td>\n",
       "      <td>8</td>\n",
       "      <td>7</td>\n",
       "      <td>47</td>\n",
       "    </tr>\n",
       "    <tr>\n",
       "      <th>3</th>\n",
       "      <td>Buffalo</td>\n",
       "      <td>41</td>\n",
       "      <td>32</td>\n",
       "      <td>9</td>\n",
       "      <td>91</td>\n",
       "      <td>242</td>\n",
       "      <td>229</td>\n",
       "      <td>358</td>\n",
       "      <td>75</td>\n",
       "      <td>21.0</td>\n",
       "      <td>1105</td>\n",
       "      <td>16</td>\n",
       "      <td>13.7</td>\n",
       "      <td>336</td>\n",
       "      <td>61</td>\n",
       "      <td>81.8</td>\n",
       "      <td>7</td>\n",
       "      <td>4</td>\n",
       "      <td>44</td>\n",
       "    </tr>\n",
       "    <tr>\n",
       "      <th>4</th>\n",
       "      <td>Carolina</td>\n",
       "      <td>45</td>\n",
       "      <td>30</td>\n",
       "      <td>7</td>\n",
       "      <td>97</td>\n",
       "      <td>236</td>\n",
       "      <td>221</td>\n",
       "      <td>374</td>\n",
       "      <td>70</td>\n",
       "      <td>18.7</td>\n",
       "      <td>786</td>\n",
       "      <td>16</td>\n",
       "      <td>9.8</td>\n",
       "      <td>301</td>\n",
       "      <td>59</td>\n",
       "      <td>80.4</td>\n",
       "      <td>8</td>\n",
       "      <td>7</td>\n",
       "      <td>39</td>\n",
       "    </tr>\n",
       "    <tr>\n",
       "      <th>5</th>\n",
       "      <td>Columbus</td>\n",
       "      <td>41</td>\n",
       "      <td>31</td>\n",
       "      <td>10</td>\n",
       "      <td>92</td>\n",
       "      <td>220</td>\n",
       "      <td>223</td>\n",
       "      <td>322</td>\n",
       "      <td>41</td>\n",
       "      <td>12.7</td>\n",
       "      <td>1207</td>\n",
       "      <td>20</td>\n",
       "      <td>15.0</td>\n",
       "      <td>346</td>\n",
       "      <td>62</td>\n",
       "      <td>82.1</td>\n",
       "      <td>8</td>\n",
       "      <td>9</td>\n",
       "      <td>41</td>\n",
       "    </tr>\n",
       "    <tr>\n",
       "      <th>6</th>\n",
       "      <td>Calgary</td>\n",
       "      <td>46</td>\n",
       "      <td>30</td>\n",
       "      <td>6</td>\n",
       "      <td>98</td>\n",
       "      <td>251</td>\n",
       "      <td>246</td>\n",
       "      <td>358</td>\n",
       "      <td>61</td>\n",
       "      <td>17.0</td>\n",
       "      <td>1281</td>\n",
       "      <td>18</td>\n",
       "      <td>15.8</td>\n",
       "      <td>349</td>\n",
       "      <td>58</td>\n",
       "      <td>83.4</td>\n",
       "      <td>6</td>\n",
       "      <td>13</td>\n",
       "      <td>37</td>\n",
       "    </tr>\n",
       "    <tr>\n",
       "      <th>7</th>\n",
       "      <td>Chicago</td>\n",
       "      <td>46</td>\n",
       "      <td>24</td>\n",
       "      <td>12</td>\n",
       "      <td>104</td>\n",
       "      <td>260</td>\n",
       "      <td>209</td>\n",
       "      <td>363</td>\n",
       "      <td>70</td>\n",
       "      <td>19.3</td>\n",
       "      <td>1129</td>\n",
       "      <td>28</td>\n",
       "      <td>14.1</td>\n",
       "      <td>330</td>\n",
       "      <td>64</td>\n",
       "      <td>80.6</td>\n",
       "      <td>10</td>\n",
       "      <td>5</td>\n",
       "      <td>43</td>\n",
       "    </tr>\n",
       "    <tr>\n",
       "      <th>8</th>\n",
       "      <td>Colorado</td>\n",
       "      <td>32</td>\n",
       "      <td>45</td>\n",
       "      <td>5</td>\n",
       "      <td>69</td>\n",
       "      <td>190</td>\n",
       "      <td>253</td>\n",
       "      <td>318</td>\n",
       "      <td>50</td>\n",
       "      <td>15.7</td>\n",
       "      <td>1044</td>\n",
       "      <td>18</td>\n",
       "      <td>13.0</td>\n",
       "      <td>318</td>\n",
       "      <td>64</td>\n",
       "      <td>79.9</td>\n",
       "      <td>4</td>\n",
       "      <td>5</td>\n",
       "      <td>31</td>\n",
       "    </tr>\n",
       "    <tr>\n",
       "      <th>9</th>\n",
       "      <td>Dallas</td>\n",
       "      <td>36</td>\n",
       "      <td>35</td>\n",
       "      <td>11</td>\n",
       "      <td>83</td>\n",
       "      <td>224</td>\n",
       "      <td>251</td>\n",
       "      <td>351</td>\n",
       "      <td>54</td>\n",
       "      <td>15.4</td>\n",
       "      <td>1134</td>\n",
       "      <td>10</td>\n",
       "      <td>14.0</td>\n",
       "      <td>327</td>\n",
       "      <td>70</td>\n",
       "      <td>78.6</td>\n",
       "      <td>2</td>\n",
       "      <td>2</td>\n",
       "      <td>38</td>\n",
       "    </tr>\n",
       "    <tr>\n",
       "      <th>10</th>\n",
       "      <td>Detroit</td>\n",
       "      <td>51</td>\n",
       "      <td>21</td>\n",
       "      <td>10</td>\n",
       "      <td>112</td>\n",
       "      <td>289</td>\n",
       "      <td>240</td>\n",
       "      <td>353</td>\n",
       "      <td>90</td>\n",
       "      <td>25.5</td>\n",
       "      <td>810</td>\n",
       "      <td>14</td>\n",
       "      <td>10.0</td>\n",
       "      <td>327</td>\n",
       "      <td>71</td>\n",
       "      <td>78.3</td>\n",
       "      <td>6</td>\n",
       "      <td>4</td>\n",
       "      <td>46</td>\n",
       "    </tr>\n",
       "    <tr>\n",
       "      <th>11</th>\n",
       "      <td>Edmonton</td>\n",
       "      <td>38</td>\n",
       "      <td>35</td>\n",
       "      <td>9</td>\n",
       "      <td>85</td>\n",
       "      <td>228</td>\n",
       "      <td>244</td>\n",
       "      <td>354</td>\n",
       "      <td>60</td>\n",
       "      <td>17.0</td>\n",
       "      <td>1227</td>\n",
       "      <td>20</td>\n",
       "      <td>15.2</td>\n",
       "      <td>338</td>\n",
       "      <td>76</td>\n",
       "      <td>77.5</td>\n",
       "      <td>3</td>\n",
       "      <td>8</td>\n",
       "      <td>39</td>\n",
       "    </tr>\n",
       "    <tr>\n",
       "      <th>12</th>\n",
       "      <td>Florida</td>\n",
       "      <td>41</td>\n",
       "      <td>30</td>\n",
       "      <td>11</td>\n",
       "      <td>93</td>\n",
       "      <td>231</td>\n",
       "      <td>223</td>\n",
       "      <td>308</td>\n",
       "      <td>51</td>\n",
       "      <td>16.6</td>\n",
       "      <td>884</td>\n",
       "      <td>16</td>\n",
       "      <td>11.0</td>\n",
       "      <td>311</td>\n",
       "      <td>54</td>\n",
       "      <td>82.6</td>\n",
       "      <td>7</td>\n",
       "      <td>6</td>\n",
       "      <td>39</td>\n",
       "    </tr>\n",
       "    <tr>\n",
       "      <th>13</th>\n",
       "      <td>LosAngeles</td>\n",
       "      <td>34</td>\n",
       "      <td>37</td>\n",
       "      <td>11</td>\n",
       "      <td>79</td>\n",
       "      <td>202</td>\n",
       "      <td>226</td>\n",
       "      <td>360</td>\n",
       "      <td>69</td>\n",
       "      <td>19.2</td>\n",
       "      <td>1191</td>\n",
       "      <td>16</td>\n",
       "      <td>14.7</td>\n",
       "      <td>362</td>\n",
       "      <td>62</td>\n",
       "      <td>82.9</td>\n",
       "      <td>4</td>\n",
       "      <td>7</td>\n",
       "      <td>39</td>\n",
       "    </tr>\n",
       "    <tr>\n",
       "      <th>14</th>\n",
       "      <td>Minnesota</td>\n",
       "      <td>40</td>\n",
       "      <td>33</td>\n",
       "      <td>9</td>\n",
       "      <td>89</td>\n",
       "      <td>214</td>\n",
       "      <td>197</td>\n",
       "      <td>328</td>\n",
       "      <td>66</td>\n",
       "      <td>20.1</td>\n",
       "      <td>869</td>\n",
       "      <td>20</td>\n",
       "      <td>10.8</td>\n",
       "      <td>291</td>\n",
       "      <td>36</td>\n",
       "      <td>87.6</td>\n",
       "      <td>9</td>\n",
       "      <td>6</td>\n",
       "      <td>39</td>\n",
       "    </tr>\n",
       "    <tr>\n",
       "      <th>15</th>\n",
       "      <td>Montreal</td>\n",
       "      <td>41</td>\n",
       "      <td>30</td>\n",
       "      <td>11</td>\n",
       "      <td>93</td>\n",
       "      <td>242</td>\n",
       "      <td>240</td>\n",
       "      <td>374</td>\n",
       "      <td>72</td>\n",
       "      <td>19.2</td>\n",
       "      <td>1223</td>\n",
       "      <td>6</td>\n",
       "      <td>15.0</td>\n",
       "      <td>370</td>\n",
       "      <td>65</td>\n",
       "      <td>82.4</td>\n",
       "      <td>10</td>\n",
       "      <td>10</td>\n",
       "      <td>38</td>\n",
       "    </tr>\n",
       "    <tr>\n",
       "      <th>16</th>\n",
       "      <td>NewJersey</td>\n",
       "      <td>51</td>\n",
       "      <td>27</td>\n",
       "      <td>4</td>\n",
       "      <td>106</td>\n",
       "      <td>238</td>\n",
       "      <td>207</td>\n",
       "      <td>307</td>\n",
       "      <td>58</td>\n",
       "      <td>18.9</td>\n",
       "      <td>1038</td>\n",
       "      <td>20</td>\n",
       "      <td>12.9</td>\n",
       "      <td>324</td>\n",
       "      <td>65</td>\n",
       "      <td>79.9</td>\n",
       "      <td>12</td>\n",
       "      <td>3</td>\n",
       "      <td>44</td>\n",
       "    </tr>\n",
       "    <tr>\n",
       "      <th>17</th>\n",
       "      <td>Nashville</td>\n",
       "      <td>40</td>\n",
       "      <td>34</td>\n",
       "      <td>8</td>\n",
       "      <td>88</td>\n",
       "      <td>207</td>\n",
       "      <td>228</td>\n",
       "      <td>318</td>\n",
       "      <td>50</td>\n",
       "      <td>15.7</td>\n",
       "      <td>982</td>\n",
       "      <td>12</td>\n",
       "      <td>12.1</td>\n",
       "      <td>338</td>\n",
       "      <td>59</td>\n",
       "      <td>82.5</td>\n",
       "      <td>9</td>\n",
       "      <td>8</td>\n",
       "      <td>41</td>\n",
       "    </tr>\n",
       "    <tr>\n",
       "      <th>18</th>\n",
       "      <td>NIIslanders</td>\n",
       "      <td>26</td>\n",
       "      <td>47</td>\n",
       "      <td>9</td>\n",
       "      <td>61</td>\n",
       "      <td>198</td>\n",
       "      <td>274</td>\n",
       "      <td>320</td>\n",
       "      <td>54</td>\n",
       "      <td>16.9</td>\n",
       "      <td>1198</td>\n",
       "      <td>18</td>\n",
       "      <td>14.8</td>\n",
       "      <td>361</td>\n",
       "      <td>73</td>\n",
       "      <td>79.8</td>\n",
       "      <td>12</td>\n",
       "      <td>5</td>\n",
       "      <td>37</td>\n",
       "    </tr>\n",
       "    <tr>\n",
       "      <th>19</th>\n",
       "      <td>NYRangers</td>\n",
       "      <td>43</td>\n",
       "      <td>30</td>\n",
       "      <td>9</td>\n",
       "      <td>95</td>\n",
       "      <td>200</td>\n",
       "      <td>212</td>\n",
       "      <td>346</td>\n",
       "      <td>48</td>\n",
       "      <td>13.9</td>\n",
       "      <td>1175</td>\n",
       "      <td>24</td>\n",
       "      <td>14.6</td>\n",
       "      <td>329</td>\n",
       "      <td>40</td>\n",
       "      <td>87.8</td>\n",
       "      <td>9</td>\n",
       "      <td>13</td>\n",
       "      <td>42</td>\n",
       "    </tr>\n",
       "    <tr>\n",
       "      <th>20</th>\n",
       "      <td>Ottawa</td>\n",
       "      <td>36</td>\n",
       "      <td>35</td>\n",
       "      <td>11</td>\n",
       "      <td>83</td>\n",
       "      <td>213</td>\n",
       "      <td>231</td>\n",
       "      <td>339</td>\n",
       "      <td>66</td>\n",
       "      <td>19.5</td>\n",
       "      <td>1084</td>\n",
       "      <td>14</td>\n",
       "      <td>13.4</td>\n",
       "      <td>346</td>\n",
       "      <td>64</td>\n",
       "      <td>81.5</td>\n",
       "      <td>8</td>\n",
       "      <td>5</td>\n",
       "      <td>46</td>\n",
       "    </tr>\n",
       "    <tr>\n",
       "      <th>21</th>\n",
       "      <td>Philadelphia</td>\n",
       "      <td>44</td>\n",
       "      <td>27</td>\n",
       "      <td>11</td>\n",
       "      <td>99</td>\n",
       "      <td>260</td>\n",
       "      <td>232</td>\n",
       "      <td>316</td>\n",
       "      <td>71</td>\n",
       "      <td>22.5</td>\n",
       "      <td>1408</td>\n",
       "      <td>26</td>\n",
       "      <td>17.5</td>\n",
       "      <td>393</td>\n",
       "      <td>67</td>\n",
       "      <td>83.0</td>\n",
       "      <td>16</td>\n",
       "      <td>1</td>\n",
       "      <td>43</td>\n",
       "    </tr>\n",
       "    <tr>\n",
       "      <th>22</th>\n",
       "      <td>Phoenix</td>\n",
       "      <td>36</td>\n",
       "      <td>39</td>\n",
       "      <td>7</td>\n",
       "      <td>79</td>\n",
       "      <td>205</td>\n",
       "      <td>249</td>\n",
       "      <td>344</td>\n",
       "      <td>50</td>\n",
       "      <td>14.5</td>\n",
       "      <td>1074</td>\n",
       "      <td>18</td>\n",
       "      <td>13.3</td>\n",
       "      <td>293</td>\n",
       "      <td>68</td>\n",
       "      <td>76.8</td>\n",
       "      <td>5</td>\n",
       "      <td>4</td>\n",
       "      <td>36</td>\n",
       "    </tr>\n",
       "    <tr>\n",
       "      <th>23</th>\n",
       "      <td>Pittsburgh</td>\n",
       "      <td>45</td>\n",
       "      <td>28</td>\n",
       "      <td>9</td>\n",
       "      <td>99</td>\n",
       "      <td>258</td>\n",
       "      <td>233</td>\n",
       "      <td>360</td>\n",
       "      <td>62</td>\n",
       "      <td>17.2</td>\n",
       "      <td>1106</td>\n",
       "      <td>8</td>\n",
       "      <td>13.6</td>\n",
       "      <td>347</td>\n",
       "      <td>60</td>\n",
       "      <td>82.7</td>\n",
       "      <td>7</td>\n",
       "      <td>11</td>\n",
       "      <td>46</td>\n",
       "    </tr>\n",
       "    <tr>\n",
       "      <th>24</th>\n",
       "      <td>SanJose</td>\n",
       "      <td>53</td>\n",
       "      <td>18</td>\n",
       "      <td>11</td>\n",
       "      <td>117</td>\n",
       "      <td>251</td>\n",
       "      <td>199</td>\n",
       "      <td>360</td>\n",
       "      <td>87</td>\n",
       "      <td>24.2</td>\n",
       "      <td>1037</td>\n",
       "      <td>16</td>\n",
       "      <td>12.8</td>\n",
       "      <td>306</td>\n",
       "      <td>51</td>\n",
       "      <td>83.3</td>\n",
       "      <td>12</td>\n",
       "      <td>10</td>\n",
       "      <td>46</td>\n",
       "    </tr>\n",
       "    <tr>\n",
       "      <th>25</th>\n",
       "      <td>St.Louis</td>\n",
       "      <td>41</td>\n",
       "      <td>31</td>\n",
       "      <td>10</td>\n",
       "      <td>92</td>\n",
       "      <td>227</td>\n",
       "      <td>227</td>\n",
       "      <td>351</td>\n",
       "      <td>72</td>\n",
       "      <td>20.5</td>\n",
       "      <td>1226</td>\n",
       "      <td>22</td>\n",
       "      <td>15.2</td>\n",
       "      <td>357</td>\n",
       "      <td>58</td>\n",
       "      <td>83.8</td>\n",
       "      <td>10</td>\n",
       "      <td>8</td>\n",
       "      <td>35</td>\n",
       "    </tr>\n",
       "    <tr>\n",
       "      <th>26</th>\n",
       "      <td>TampaBay</td>\n",
       "      <td>24</td>\n",
       "      <td>40</td>\n",
       "      <td>18</td>\n",
       "      <td>66</td>\n",
       "      <td>207</td>\n",
       "      <td>269</td>\n",
       "      <td>343</td>\n",
       "      <td>61</td>\n",
       "      <td>17.8</td>\n",
       "      <td>1280</td>\n",
       "      <td>26</td>\n",
       "      <td>15.9</td>\n",
       "      <td>405</td>\n",
       "      <td>89</td>\n",
       "      <td>78.0</td>\n",
       "      <td>4</td>\n",
       "      <td>8</td>\n",
       "      <td>34</td>\n",
       "    </tr>\n",
       "    <tr>\n",
       "      <th>27</th>\n",
       "      <td>Toronto</td>\n",
       "      <td>34</td>\n",
       "      <td>35</td>\n",
       "      <td>13</td>\n",
       "      <td>81</td>\n",
       "      <td>244</td>\n",
       "      <td>286</td>\n",
       "      <td>330</td>\n",
       "      <td>62</td>\n",
       "      <td>18.8</td>\n",
       "      <td>1113</td>\n",
       "      <td>12</td>\n",
       "      <td>13.7</td>\n",
       "      <td>308</td>\n",
       "      <td>78</td>\n",
       "      <td>74.7</td>\n",
       "      <td>6</td>\n",
       "      <td>7</td>\n",
       "      <td>40</td>\n",
       "    </tr>\n",
       "    <tr>\n",
       "      <th>28</th>\n",
       "      <td>Vancouver</td>\n",
       "      <td>45</td>\n",
       "      <td>27</td>\n",
       "      <td>10</td>\n",
       "      <td>100</td>\n",
       "      <td>243</td>\n",
       "      <td>213</td>\n",
       "      <td>357</td>\n",
       "      <td>67</td>\n",
       "      <td>18.8</td>\n",
       "      <td>1323</td>\n",
       "      <td>28</td>\n",
       "      <td>16.5</td>\n",
       "      <td>371</td>\n",
       "      <td>69</td>\n",
       "      <td>81.4</td>\n",
       "      <td>7</td>\n",
       "      <td>5</td>\n",
       "      <td>47</td>\n",
       "    </tr>\n",
       "    <tr>\n",
       "      <th>29</th>\n",
       "      <td>Washington</td>\n",
       "      <td>50</td>\n",
       "      <td>24</td>\n",
       "      <td>8</td>\n",
       "      <td>108</td>\n",
       "      <td>268</td>\n",
       "      <td>240</td>\n",
       "      <td>337</td>\n",
       "      <td>85</td>\n",
       "      <td>25.2</td>\n",
       "      <td>1021</td>\n",
       "      <td>20</td>\n",
       "      <td>12.7</td>\n",
       "      <td>387</td>\n",
       "      <td>75</td>\n",
       "      <td>80.6</td>\n",
       "      <td>7</td>\n",
       "      <td>9</td>\n",
       "      <td>45</td>\n",
       "    </tr>\n",
       "  </tbody>\n",
       "</table>\n",
       "</div>"
      ],
      "text/plain": [
       "            Team   W   L  OTL  PTS   GF   GA  ADV  PPGF  PCTG   PEN  BMI  \\\n",
       "0        Anaheim  42  33    7   91  238  235  309    73  23.6  1418    8   \n",
       "1        Atlanta  35  41    6   76  250  279  357    69  19.3  1244   12   \n",
       "2         Boston  53  19   10  116  270  190  313    74  23.6  1016   12   \n",
       "3        Buffalo  41  32    9   91  242  229  358    75  21.0  1105   16   \n",
       "4       Carolina  45  30    7   97  236  221  374    70  18.7   786   16   \n",
       "5       Columbus  41  31   10   92  220  223  322    41  12.7  1207   20   \n",
       "6        Calgary  46  30    6   98  251  246  358    61  17.0  1281   18   \n",
       "7        Chicago  46  24   12  104  260  209  363    70  19.3  1129   28   \n",
       "8       Colorado  32  45    5   69  190  253  318    50  15.7  1044   18   \n",
       "9         Dallas  36  35   11   83  224  251  351    54  15.4  1134   10   \n",
       "10       Detroit  51  21   10  112  289  240  353    90  25.5   810   14   \n",
       "11      Edmonton  38  35    9   85  228  244  354    60  17.0  1227   20   \n",
       "12       Florida  41  30   11   93  231  223  308    51  16.6   884   16   \n",
       "13    LosAngeles  34  37   11   79  202  226  360    69  19.2  1191   16   \n",
       "14     Minnesota  40  33    9   89  214  197  328    66  20.1   869   20   \n",
       "15      Montreal  41  30   11   93  242  240  374    72  19.2  1223    6   \n",
       "16     NewJersey  51  27    4  106  238  207  307    58  18.9  1038   20   \n",
       "17     Nashville  40  34    8   88  207  228  318    50  15.7   982   12   \n",
       "18   NIIslanders  26  47    9   61  198  274  320    54  16.9  1198   18   \n",
       "19     NYRangers  43  30    9   95  200  212  346    48  13.9  1175   24   \n",
       "20        Ottawa  36  35   11   83  213  231  339    66  19.5  1084   14   \n",
       "21  Philadelphia  44  27   11   99  260  232  316    71  22.5  1408   26   \n",
       "22       Phoenix  36  39    7   79  205  249  344    50  14.5  1074   18   \n",
       "23    Pittsburgh  45  28    9   99  258  233  360    62  17.2  1106    8   \n",
       "24       SanJose  53  18   11  117  251  199  360    87  24.2  1037   16   \n",
       "25      St.Louis  41  31   10   92  227  227  351    72  20.5  1226   22   \n",
       "26      TampaBay  24  40   18   66  207  269  343    61  17.8  1280   26   \n",
       "27       Toronto  34  35   13   81  244  286  330    62  18.8  1113   12   \n",
       "28     Vancouver  45  27   10  100  243  213  357    67  18.8  1323   28   \n",
       "29    Washington  50  24    8  108  268  240  337    85  25.2  1021   20   \n",
       "\n",
       "     AVG  SHT  PPGA  PKPCT  SHGF  SHGA  FG  \n",
       "0   17.4  385    78   79.7     6     6  43  \n",
       "1   15.3  366    88   76.0    13     9  39  \n",
       "2   12.5  306    54   82.4     8     7  47  \n",
       "3   13.7  336    61   81.8     7     4  44  \n",
       "4    9.8  301    59   80.4     8     7  39  \n",
       "5   15.0  346    62   82.1     8     9  41  \n",
       "6   15.8  349    58   83.4     6    13  37  \n",
       "7   14.1  330    64   80.6    10     5  43  \n",
       "8   13.0  318    64   79.9     4     5  31  \n",
       "9   14.0  327    70   78.6     2     2  38  \n",
       "10  10.0  327    71   78.3     6     4  46  \n",
       "11  15.2  338    76   77.5     3     8  39  \n",
       "12  11.0  311    54   82.6     7     6  39  \n",
       "13  14.7  362    62   82.9     4     7  39  \n",
       "14  10.8  291    36   87.6     9     6  39  \n",
       "15  15.0  370    65   82.4    10    10  38  \n",
       "16  12.9  324    65   79.9    12     3  44  \n",
       "17  12.1  338    59   82.5     9     8  41  \n",
       "18  14.8  361    73   79.8    12     5  37  \n",
       "19  14.6  329    40   87.8     9    13  42  \n",
       "20  13.4  346    64   81.5     8     5  46  \n",
       "21  17.5  393    67   83.0    16     1  43  \n",
       "22  13.3  293    68   76.8     5     4  36  \n",
       "23  13.6  347    60   82.7     7    11  46  \n",
       "24  12.8  306    51   83.3    12    10  46  \n",
       "25  15.2  357    58   83.8    10     8  35  \n",
       "26  15.9  405    89   78.0     4     8  34  \n",
       "27  13.7  308    78   74.7     6     7  40  \n",
       "28  16.5  371    69   81.4     7     5  47  \n",
       "29  12.7  387    75   80.6     7     9  45  "
      ]
     },
     "execution_count": 795,
     "metadata": {},
     "output_type": "execute_result"
    }
   ],
   "source": [
    "myDataFrame"
   ]
  },
  {
   "cell_type": "markdown",
   "metadata": {},
   "source": [
    "Looks like all data points are filled. No need to clean data (remove nans and what-not)."
   ]
  },
  {
   "cell_type": "markdown",
   "metadata": {},
   "source": [
    "# 1. Visualize the data (used scatter matrix with histogram). There's a lot of various data and kind of hard to see. "
   ]
  },
  {
   "cell_type": "code",
   "execution_count": 796,
   "metadata": {},
   "outputs": [],
   "source": [
    "#pd.plotting.scatter_matrix(myDataFrame, alpha =1, diagonal='hist', figsize= (50,50))"
   ]
  },
  {
   "cell_type": "markdown",
   "metadata": {},
   "source": [
    "Get data info:"
   ]
  },
  {
   "cell_type": "code",
   "execution_count": 797,
   "metadata": {},
   "outputs": [
    {
     "name": "stdout",
     "output_type": "stream",
     "text": [
      "<class 'pandas.core.frame.DataFrame'>\n",
      "RangeIndex: 30 entries, 0 to 29\n",
      "Data columns (total 19 columns):\n",
      " #   Column  Non-Null Count  Dtype  \n",
      "---  ------  --------------  -----  \n",
      " 0   Team    30 non-null     object \n",
      " 1   W       30 non-null     int64  \n",
      " 2   L       30 non-null     int64  \n",
      " 3   OTL     30 non-null     int64  \n",
      " 4   PTS     30 non-null     int64  \n",
      " 5   GF      30 non-null     int64  \n",
      " 6   GA      30 non-null     int64  \n",
      " 7   ADV     30 non-null     int64  \n",
      " 8   PPGF    30 non-null     int64  \n",
      " 9   PCTG    30 non-null     float64\n",
      " 10  PEN     30 non-null     int64  \n",
      " 11  BMI     30 non-null     int64  \n",
      " 12  AVG     30 non-null     float64\n",
      " 13  SHT     30 non-null     int64  \n",
      " 14  PPGA    30 non-null     int64  \n",
      " 15  PKPCT   30 non-null     float64\n",
      " 16  SHGF    30 non-null     int64  \n",
      " 17  SHGA    30 non-null     int64  \n",
      " 18  FG      30 non-null     int64  \n",
      "dtypes: float64(3), int64(15), object(1)\n",
      "memory usage: 4.6+ KB\n"
     ]
    }
   ],
   "source": [
    "myDataFrame.info()"
   ]
  },
  {
   "cell_type": "markdown",
   "metadata": {},
   "source": [
    "# 2. Getting descriptive statistics for all parameters"
   ]
  },
  {
   "cell_type": "code",
   "execution_count": 798,
   "metadata": {},
   "outputs": [
    {
     "data": {
      "text/html": [
       "<div>\n",
       "<style scoped>\n",
       "    .dataframe tbody tr th:only-of-type {\n",
       "        vertical-align: middle;\n",
       "    }\n",
       "\n",
       "    .dataframe tbody tr th {\n",
       "        vertical-align: top;\n",
       "    }\n",
       "\n",
       "    .dataframe thead th {\n",
       "        text-align: right;\n",
       "    }\n",
       "</style>\n",
       "<table border=\"1\" class=\"dataframe\">\n",
       "  <thead>\n",
       "    <tr style=\"text-align: right;\">\n",
       "      <th></th>\n",
       "      <th>W</th>\n",
       "      <th>L</th>\n",
       "      <th>OTL</th>\n",
       "      <th>PTS</th>\n",
       "      <th>GF</th>\n",
       "      <th>GA</th>\n",
       "      <th>ADV</th>\n",
       "      <th>PPGF</th>\n",
       "      <th>PCTG</th>\n",
       "      <th>PEN</th>\n",
       "      <th>BMI</th>\n",
       "      <th>AVG</th>\n",
       "      <th>SHT</th>\n",
       "      <th>PPGA</th>\n",
       "      <th>PKPCT</th>\n",
       "      <th>SHGF</th>\n",
       "      <th>SHGA</th>\n",
       "      <th>FG</th>\n",
       "    </tr>\n",
       "  </thead>\n",
       "  <tbody>\n",
       "    <tr>\n",
       "      <th>count</th>\n",
       "      <td>30.000000</td>\n",
       "      <td>30.000000</td>\n",
       "      <td>30.000000</td>\n",
       "      <td>30.000000</td>\n",
       "      <td>30.000000</td>\n",
       "      <td>30.000000</td>\n",
       "      <td>30.000000</td>\n",
       "      <td>30.000000</td>\n",
       "      <td>30.000000</td>\n",
       "      <td>30.000000</td>\n",
       "      <td>30.000000</td>\n",
       "      <td>30.000000</td>\n",
       "      <td>30.000000</td>\n",
       "      <td>30.000000</td>\n",
       "      <td>30.000000</td>\n",
       "      <td>30.000000</td>\n",
       "      <td>30.000000</td>\n",
       "      <td>30.000000</td>\n",
       "    </tr>\n",
       "    <tr>\n",
       "      <th>mean</th>\n",
       "      <td>41.000000</td>\n",
       "      <td>31.600000</td>\n",
       "      <td>9.400000</td>\n",
       "      <td>91.400000</td>\n",
       "      <td>233.533333</td>\n",
       "      <td>233.533333</td>\n",
       "      <td>340.933333</td>\n",
       "      <td>64.600000</td>\n",
       "      <td>18.943333</td>\n",
       "      <td>1121.100000</td>\n",
       "      <td>17.133333</td>\n",
       "      <td>13.876667</td>\n",
       "      <td>340.933333</td>\n",
       "      <td>64.600000</td>\n",
       "      <td>81.066667</td>\n",
       "      <td>7.833333</td>\n",
       "      <td>6.833333</td>\n",
       "      <td>40.800000</td>\n",
       "    </tr>\n",
       "    <tr>\n",
       "      <th>std</th>\n",
       "      <td>7.182354</td>\n",
       "      <td>6.891274</td>\n",
       "      <td>2.672981</td>\n",
       "      <td>13.820524</td>\n",
       "      <td>24.578843</td>\n",
       "      <td>23.623094</td>\n",
       "      <td>20.539169</td>\n",
       "      <td>11.851379</td>\n",
       "      <td>3.289973</td>\n",
       "      <td>158.047647</td>\n",
       "      <td>5.817532</td>\n",
       "      <td>1.945762</td>\n",
       "      <td>30.414304</td>\n",
       "      <td>11.669589</td>\n",
       "      <td>2.953120</td>\n",
       "      <td>3.163186</td>\n",
       "      <td>2.925316</td>\n",
       "      <td>4.163884</td>\n",
       "    </tr>\n",
       "    <tr>\n",
       "      <th>min</th>\n",
       "      <td>24.000000</td>\n",
       "      <td>18.000000</td>\n",
       "      <td>4.000000</td>\n",
       "      <td>61.000000</td>\n",
       "      <td>190.000000</td>\n",
       "      <td>190.000000</td>\n",
       "      <td>307.000000</td>\n",
       "      <td>41.000000</td>\n",
       "      <td>12.700000</td>\n",
       "      <td>786.000000</td>\n",
       "      <td>6.000000</td>\n",
       "      <td>9.800000</td>\n",
       "      <td>291.000000</td>\n",
       "      <td>36.000000</td>\n",
       "      <td>74.700000</td>\n",
       "      <td>2.000000</td>\n",
       "      <td>1.000000</td>\n",
       "      <td>31.000000</td>\n",
       "    </tr>\n",
       "    <tr>\n",
       "      <th>25%</th>\n",
       "      <td>36.000000</td>\n",
       "      <td>27.250000</td>\n",
       "      <td>8.000000</td>\n",
       "      <td>83.000000</td>\n",
       "      <td>213.250000</td>\n",
       "      <td>221.500000</td>\n",
       "      <td>320.500000</td>\n",
       "      <td>55.000000</td>\n",
       "      <td>16.925000</td>\n",
       "      <td>1037.250000</td>\n",
       "      <td>12.500000</td>\n",
       "      <td>12.825000</td>\n",
       "      <td>319.500000</td>\n",
       "      <td>59.000000</td>\n",
       "      <td>79.725000</td>\n",
       "      <td>6.000000</td>\n",
       "      <td>5.000000</td>\n",
       "      <td>38.250000</td>\n",
       "    </tr>\n",
       "    <tr>\n",
       "      <th>50%</th>\n",
       "      <td>41.000000</td>\n",
       "      <td>31.000000</td>\n",
       "      <td>9.500000</td>\n",
       "      <td>92.000000</td>\n",
       "      <td>237.000000</td>\n",
       "      <td>231.500000</td>\n",
       "      <td>345.000000</td>\n",
       "      <td>66.000000</td>\n",
       "      <td>18.850000</td>\n",
       "      <td>1121.000000</td>\n",
       "      <td>17.000000</td>\n",
       "      <td>13.850000</td>\n",
       "      <td>338.000000</td>\n",
       "      <td>64.000000</td>\n",
       "      <td>81.450000</td>\n",
       "      <td>7.500000</td>\n",
       "      <td>7.000000</td>\n",
       "      <td>40.500000</td>\n",
       "    </tr>\n",
       "    <tr>\n",
       "      <th>75%</th>\n",
       "      <td>45.000000</td>\n",
       "      <td>35.000000</td>\n",
       "      <td>11.000000</td>\n",
       "      <td>99.000000</td>\n",
       "      <td>250.750000</td>\n",
       "      <td>245.500000</td>\n",
       "      <td>357.750000</td>\n",
       "      <td>71.750000</td>\n",
       "      <td>20.400000</td>\n",
       "      <td>1225.250000</td>\n",
       "      <td>20.000000</td>\n",
       "      <td>15.150000</td>\n",
       "      <td>361.750000</td>\n",
       "      <td>70.750000</td>\n",
       "      <td>82.675000</td>\n",
       "      <td>9.750000</td>\n",
       "      <td>8.750000</td>\n",
       "      <td>44.000000</td>\n",
       "    </tr>\n",
       "    <tr>\n",
       "      <th>max</th>\n",
       "      <td>53.000000</td>\n",
       "      <td>47.000000</td>\n",
       "      <td>18.000000</td>\n",
       "      <td>117.000000</td>\n",
       "      <td>289.000000</td>\n",
       "      <td>286.000000</td>\n",
       "      <td>374.000000</td>\n",
       "      <td>90.000000</td>\n",
       "      <td>25.500000</td>\n",
       "      <td>1418.000000</td>\n",
       "      <td>28.000000</td>\n",
       "      <td>17.500000</td>\n",
       "      <td>405.000000</td>\n",
       "      <td>89.000000</td>\n",
       "      <td>87.800000</td>\n",
       "      <td>16.000000</td>\n",
       "      <td>13.000000</td>\n",
       "      <td>47.000000</td>\n",
       "    </tr>\n",
       "  </tbody>\n",
       "</table>\n",
       "</div>"
      ],
      "text/plain": [
       "               W          L        OTL         PTS          GF          GA  \\\n",
       "count  30.000000  30.000000  30.000000   30.000000   30.000000   30.000000   \n",
       "mean   41.000000  31.600000   9.400000   91.400000  233.533333  233.533333   \n",
       "std     7.182354   6.891274   2.672981   13.820524   24.578843   23.623094   \n",
       "min    24.000000  18.000000   4.000000   61.000000  190.000000  190.000000   \n",
       "25%    36.000000  27.250000   8.000000   83.000000  213.250000  221.500000   \n",
       "50%    41.000000  31.000000   9.500000   92.000000  237.000000  231.500000   \n",
       "75%    45.000000  35.000000  11.000000   99.000000  250.750000  245.500000   \n",
       "max    53.000000  47.000000  18.000000  117.000000  289.000000  286.000000   \n",
       "\n",
       "              ADV       PPGF       PCTG          PEN        BMI        AVG  \\\n",
       "count   30.000000  30.000000  30.000000    30.000000  30.000000  30.000000   \n",
       "mean   340.933333  64.600000  18.943333  1121.100000  17.133333  13.876667   \n",
       "std     20.539169  11.851379   3.289973   158.047647   5.817532   1.945762   \n",
       "min    307.000000  41.000000  12.700000   786.000000   6.000000   9.800000   \n",
       "25%    320.500000  55.000000  16.925000  1037.250000  12.500000  12.825000   \n",
       "50%    345.000000  66.000000  18.850000  1121.000000  17.000000  13.850000   \n",
       "75%    357.750000  71.750000  20.400000  1225.250000  20.000000  15.150000   \n",
       "max    374.000000  90.000000  25.500000  1418.000000  28.000000  17.500000   \n",
       "\n",
       "              SHT       PPGA      PKPCT       SHGF       SHGA         FG  \n",
       "count   30.000000  30.000000  30.000000  30.000000  30.000000  30.000000  \n",
       "mean   340.933333  64.600000  81.066667   7.833333   6.833333  40.800000  \n",
       "std     30.414304  11.669589   2.953120   3.163186   2.925316   4.163884  \n",
       "min    291.000000  36.000000  74.700000   2.000000   1.000000  31.000000  \n",
       "25%    319.500000  59.000000  79.725000   6.000000   5.000000  38.250000  \n",
       "50%    338.000000  64.000000  81.450000   7.500000   7.000000  40.500000  \n",
       "75%    361.750000  70.750000  82.675000   9.750000   8.750000  44.000000  \n",
       "max    405.000000  89.000000  87.800000  16.000000  13.000000  47.000000  "
      ]
     },
     "execution_count": 798,
     "metadata": {},
     "output_type": "execute_result"
    }
   ],
   "source": [
    "myDataFrame.describe()"
   ]
  },
  {
   "cell_type": "markdown",
   "metadata": {},
   "source": [
    "# 3. PCA - Since there's quite a bit of X variables, I will be conducting a PCA prior to everything to decide if there's certain components I can take away. "
   ]
  },
  {
   "cell_type": "markdown",
   "metadata": {},
   "source": [
    "First, narrow down the data to only consider GF through FG. That is because the first 4 columns are all related to win count, so should not be considered as a dependent variable."
   ]
  },
  {
   "cell_type": "code",
   "execution_count": 799,
   "metadata": {},
   "outputs": [
    {
     "data": {
      "text/html": [
       "<div>\n",
       "<style scoped>\n",
       "    .dataframe tbody tr th:only-of-type {\n",
       "        vertical-align: middle;\n",
       "    }\n",
       "\n",
       "    .dataframe tbody tr th {\n",
       "        vertical-align: top;\n",
       "    }\n",
       "\n",
       "    .dataframe thead th {\n",
       "        text-align: right;\n",
       "    }\n",
       "</style>\n",
       "<table border=\"1\" class=\"dataframe\">\n",
       "  <thead>\n",
       "    <tr style=\"text-align: right;\">\n",
       "      <th></th>\n",
       "      <th>GF</th>\n",
       "      <th>GA</th>\n",
       "      <th>ADV</th>\n",
       "      <th>PPGF</th>\n",
       "      <th>PCTG</th>\n",
       "      <th>PEN</th>\n",
       "      <th>BMI</th>\n",
       "      <th>AVG</th>\n",
       "      <th>SHT</th>\n",
       "      <th>PPGA</th>\n",
       "      <th>PKPCT</th>\n",
       "      <th>SHGF</th>\n",
       "      <th>SHGA</th>\n",
       "      <th>FG</th>\n",
       "    </tr>\n",
       "  </thead>\n",
       "  <tbody>\n",
       "    <tr>\n",
       "      <th>0</th>\n",
       "      <td>238</td>\n",
       "      <td>235</td>\n",
       "      <td>309</td>\n",
       "      <td>73</td>\n",
       "      <td>23.6</td>\n",
       "      <td>1418</td>\n",
       "      <td>8</td>\n",
       "      <td>17.4</td>\n",
       "      <td>385</td>\n",
       "      <td>78</td>\n",
       "      <td>79.7</td>\n",
       "      <td>6</td>\n",
       "      <td>6</td>\n",
       "      <td>43</td>\n",
       "    </tr>\n",
       "    <tr>\n",
       "      <th>1</th>\n",
       "      <td>250</td>\n",
       "      <td>279</td>\n",
       "      <td>357</td>\n",
       "      <td>69</td>\n",
       "      <td>19.3</td>\n",
       "      <td>1244</td>\n",
       "      <td>12</td>\n",
       "      <td>15.3</td>\n",
       "      <td>366</td>\n",
       "      <td>88</td>\n",
       "      <td>76.0</td>\n",
       "      <td>13</td>\n",
       "      <td>9</td>\n",
       "      <td>39</td>\n",
       "    </tr>\n",
       "    <tr>\n",
       "      <th>2</th>\n",
       "      <td>270</td>\n",
       "      <td>190</td>\n",
       "      <td>313</td>\n",
       "      <td>74</td>\n",
       "      <td>23.6</td>\n",
       "      <td>1016</td>\n",
       "      <td>12</td>\n",
       "      <td>12.5</td>\n",
       "      <td>306</td>\n",
       "      <td>54</td>\n",
       "      <td>82.4</td>\n",
       "      <td>8</td>\n",
       "      <td>7</td>\n",
       "      <td>47</td>\n",
       "    </tr>\n",
       "    <tr>\n",
       "      <th>3</th>\n",
       "      <td>242</td>\n",
       "      <td>229</td>\n",
       "      <td>358</td>\n",
       "      <td>75</td>\n",
       "      <td>21.0</td>\n",
       "      <td>1105</td>\n",
       "      <td>16</td>\n",
       "      <td>13.7</td>\n",
       "      <td>336</td>\n",
       "      <td>61</td>\n",
       "      <td>81.8</td>\n",
       "      <td>7</td>\n",
       "      <td>4</td>\n",
       "      <td>44</td>\n",
       "    </tr>\n",
       "    <tr>\n",
       "      <th>4</th>\n",
       "      <td>236</td>\n",
       "      <td>221</td>\n",
       "      <td>374</td>\n",
       "      <td>70</td>\n",
       "      <td>18.7</td>\n",
       "      <td>786</td>\n",
       "      <td>16</td>\n",
       "      <td>9.8</td>\n",
       "      <td>301</td>\n",
       "      <td>59</td>\n",
       "      <td>80.4</td>\n",
       "      <td>8</td>\n",
       "      <td>7</td>\n",
       "      <td>39</td>\n",
       "    </tr>\n",
       "  </tbody>\n",
       "</table>\n",
       "</div>"
      ],
      "text/plain": [
       "    GF   GA  ADV  PPGF  PCTG   PEN  BMI   AVG  SHT  PPGA  PKPCT  SHGF  SHGA  \\\n",
       "0  238  235  309    73  23.6  1418    8  17.4  385    78   79.7     6     6   \n",
       "1  250  279  357    69  19.3  1244   12  15.3  366    88   76.0    13     9   \n",
       "2  270  190  313    74  23.6  1016   12  12.5  306    54   82.4     8     7   \n",
       "3  242  229  358    75  21.0  1105   16  13.7  336    61   81.8     7     4   \n",
       "4  236  221  374    70  18.7   786   16   9.8  301    59   80.4     8     7   \n",
       "\n",
       "   FG  \n",
       "0  43  \n",
       "1  39  \n",
       "2  47  \n",
       "3  44  \n",
       "4  39  "
      ]
     },
     "execution_count": 799,
     "metadata": {},
     "output_type": "execute_result"
    }
   ],
   "source": [
    "df_clean=myDataFrame.loc[:, 'GF':'FG']\n",
    "df_clean.head(5)"
   ]
  },
  {
   "cell_type": "code",
   "execution_count": 800,
   "metadata": {},
   "outputs": [
    {
     "data": {
      "text/plain": [
       "[<matplotlib.lines.Line2D at 0x18403845bc8>]"
      ]
     },
     "execution_count": 800,
     "metadata": {},
     "output_type": "execute_result"
    },
    {
     "data": {
      "text/plain": [
       "Text(0.5, 1.0, 'Scree plot (using correlation matrix)')"
      ]
     },
     "execution_count": 800,
     "metadata": {},
     "output_type": "execute_result"
    },
    {
     "data": {
      "text/plain": [
       "Text(0.5, 0, 'PCA ID')"
      ]
     },
     "execution_count": 800,
     "metadata": {},
     "output_type": "execute_result"
    },
    {
     "data": {
      "text/plain": [
       "Text(0, 0.5, 'Proportion of Variability')"
      ]
     },
     "execution_count": 800,
     "metadata": {},
     "output_type": "execute_result"
    },
    {
     "data": {
      "image/png": "[encoded data removed]",
      "text/plain": [
       "<Figure size 576x360 with 1 Axes>"
      ]
     },
     "metadata": {
      "needs_background": "light"
     },
     "output_type": "display_data"
    }
   ],
   "source": [
    "\n",
    "\n",
    "df_corr = df_clean.corr()\n",
    "lamb, e  = np.linalg.eig(df_corr)\n",
    "totalVariance = lamb.sum()\n",
    "PVE = lamb/totalVariance\n",
    "fig = plt.figure(figsize = (8,5))\n",
    "plt.plot(PVE, linewidth=2)\n",
    "plt.title('Scree plot (using correlation matrix)')\n",
    "plt.xlabel('PCA ID')\n",
    "plt.ylabel('Proportion of Variability')\n",
    "plt.show()\n"
   ]
  },
  {
   "cell_type": "markdown",
   "metadata": {},
   "source": [
    "It looks a number of the components do not contribute that much to the variance. I will be removing certain components that have low correlation with the number of wins."
   ]
  },
  {
   "cell_type": "code",
   "execution_count": 801,
   "metadata": {},
   "outputs": [
    {
     "data": {
      "text/plain": [
       "array([[-2.28726030e-01,  4.16147148e-01,  1.01980213e-01,\n",
       "        -5.51308356e-02, -4.00069845e-02,  7.80405359e-03,\n",
       "         3.61342190e-01, -1.72228387e-01, -3.90136741e-01,\n",
       "        -6.66641374e-01, -4.70913440e-02, -1.69504328e-02,\n",
       "         6.69587723e-03,  2.67919164e-03],\n",
       "       [ 4.09002286e-01,  6.80699979e-02,  2.87834927e-01,\n",
       "        -8.58270930e-02, -9.68958009e-02, -3.25323395e-01,\n",
       "        -3.59983538e-02, -8.16830843e-02,  3.80272187e-02,\n",
       "        -1.19620703e-01,  7.73718317e-01, -1.63272815e-02,\n",
       "        -5.51258203e-05, -3.80221224e-03],\n",
       "       [-2.66947151e-02,  1.15219279e-01,  3.70099941e-02,\n",
       "        -6.27346146e-01,  4.79693216e-01, -1.00030755e-01,\n",
       "         1.89564734e-01,  4.56326434e-01,  2.20138407e-01,\n",
       "        -3.51909613e-02, -2.15102499e-02, -3.87547079e-02,\n",
       "        -2.34660665e-01, -8.31136118e-03],\n",
       "       [-2.43026909e-01,  4.45018163e-01,  8.51134871e-02,\n",
       "        -1.28181481e-01,  1.68997762e-01, -7.65825887e-02,\n",
       "        -3.47339212e-01,  6.61908060e-02, -7.51813699e-02,\n",
       "         2.12781350e-01,  6.19952209e-02,  9.46865407e-02,\n",
       "         7.03806734e-01,  2.62690336e-02],\n",
       "       [-2.45443650e-01,  4.41050272e-01,  7.06959240e-02,\n",
       "         8.67286515e-02,  7.02390100e-03, -2.29320010e-02,\n",
       "        -4.38623045e-01, -7.86849084e-02, -1.78473168e-01,\n",
       "         2.38846094e-01,  8.08143047e-02, -6.96322633e-02,\n",
       "        -6.57478751e-01, -3.15841341e-02],\n",
       "       [ 3.55047429e-01,  2.10119977e-01, -3.68568545e-01,\n",
       "        -2.05144052e-02, -8.65113954e-02,  1.83975278e-01,\n",
       "         5.56003945e-02,  2.33540984e-01, -2.93636083e-01,\n",
       "         1.03081541e-01,  5.56942536e-02, -2.63985266e-02,\n",
       "        -1.32684662e-02,  7.02666812e-01],\n",
       "       [ 3.91351541e-02, -2.75698701e-02, -3.33395511e-01,\n",
       "         2.50720802e-01,  7.46291532e-01, -1.07833460e-01,\n",
       "         1.49248413e-01, -4.42999626e-01, -7.17559634e-02,\n",
       "         7.77084601e-02,  1.57620986e-01,  4.50026232e-03,\n",
       "        -5.17997204e-03,  2.26496876e-02],\n",
       "       [ 3.54881496e-01,  2.06103674e-01, -3.76850340e-01,\n",
       "        -9.34849859e-03, -5.87151775e-02,  1.83444178e-01,\n",
       "         6.23063652e-02,  2.20280041e-01, -2.87727468e-01,\n",
       "         9.43711021e-02,  5.48244380e-02,  1.02314369e-02,\n",
       "         4.11966911e-02, -7.09557354e-01],\n",
       "       [ 2.82290606e-01,  3.29483456e-01, -2.66508960e-01,\n",
       "        -3.18006220e-02, -5.26191755e-02,  3.26088542e-02,\n",
       "        -2.75556792e-01, -2.16147165e-01,  5.67009085e-01,\n",
       "        -3.47824435e-01, -1.84982384e-01,  3.65689265e-01,\n",
       "        -5.15302631e-02,  1.21438744e-02],\n",
       "       [ 3.69089597e-01,  2.98311057e-01,  2.64119425e-01,\n",
       "         7.95135978e-02,  3.97404458e-02, -2.43632940e-02,\n",
       "         1.01852258e-01, -1.68952123e-01,  1.86641575e-01,\n",
       "         1.22532249e-01, -3.34202424e-01, -6.99368314e-01,\n",
       "         8.22584900e-02, -1.36871142e-02],\n",
       "       [-2.76242174e-01, -1.60350506e-01, -4.76753265e-01,\n",
       "        -1.14739781e-01, -7.75465486e-02,  3.38965121e-02,\n",
       "        -3.16098277e-01,  3.77742244e-02,  1.29670458e-01,\n",
       "        -3.22354023e-01,  2.49664647e-01, -6.00043577e-01,\n",
       "         7.59819207e-02, -1.12740381e-02],\n",
       "       [-1.38845859e-01,  1.54205964e-01, -2.99711113e-01,\n",
       "         2.51144546e-01, -2.12413634e-01, -7.86410968e-01,\n",
       "         2.40280516e-01,  2.21519847e-01,  1.02480197e-01,\n",
       "         1.01649855e-01, -1.12787951e-01,  2.54174644e-03,\n",
       "        -1.03993939e-02, -1.96701873e-03],\n",
       "       [-1.24836467e-02, -5.67902641e-02, -2.00164191e-01,\n",
       "        -6.45411095e-01, -2.75694980e-01, -1.59124428e-01,\n",
       "         1.00537816e-01, -5.62880013e-01, -1.35655671e-01,\n",
       "         2.91365018e-01, -8.96554002e-02,  1.76696877e-02,\n",
       "        -7.15630402e-03, -5.49697880e-03],\n",
       "       [-3.08535700e-01,  2.80519299e-01, -7.84562750e-02,\n",
       "         9.26371097e-02, -1.75851979e-01,  3.89886476e-01,\n",
       "         4.85645699e-01, -5.43073385e-02,  4.29150094e-01,\n",
       "         2.77513452e-01,  3.58262455e-01, -9.61854229e-03,\n",
       "         3.57985410e-03, -6.09016322e-04]])"
      ]
     },
     "execution_count": 801,
     "metadata": {},
     "output_type": "execute_result"
    }
   ],
   "source": [
    "e"
   ]
  },
  {
   "cell_type": "code",
   "execution_count": 802,
   "metadata": {},
   "outputs": [
    {
     "data": {
      "text/html": [
       "<div>\n",
       "<style scoped>\n",
       "    .dataframe tbody tr th:only-of-type {\n",
       "        vertical-align: middle;\n",
       "    }\n",
       "\n",
       "    .dataframe tbody tr th {\n",
       "        vertical-align: top;\n",
       "    }\n",
       "\n",
       "    .dataframe thead th {\n",
       "        text-align: right;\n",
       "    }\n",
       "</style>\n",
       "<table border=\"1\" class=\"dataframe\">\n",
       "  <thead>\n",
       "    <tr style=\"text-align: right;\">\n",
       "      <th></th>\n",
       "      <th>W</th>\n",
       "      <th>L</th>\n",
       "      <th>OTL</th>\n",
       "      <th>PTS</th>\n",
       "      <th>GF</th>\n",
       "      <th>GA</th>\n",
       "      <th>ADV</th>\n",
       "      <th>PPGF</th>\n",
       "      <th>PCTG</th>\n",
       "      <th>PEN</th>\n",
       "      <th>BMI</th>\n",
       "      <th>AVG</th>\n",
       "      <th>SHT</th>\n",
       "      <th>PPGA</th>\n",
       "      <th>PKPCT</th>\n",
       "      <th>SHGF</th>\n",
       "      <th>SHGA</th>\n",
       "      <th>FG</th>\n",
       "    </tr>\n",
       "  </thead>\n",
       "  <tbody>\n",
       "    <tr>\n",
       "      <th>W</th>\n",
       "      <td>1.000000</td>\n",
       "      <td>-0.928679</td>\n",
       "      <td>-0.292770</td>\n",
       "      <td>0.982751</td>\n",
       "      <td>0.726440</td>\n",
       "      <td>-0.697909</td>\n",
       "      <td>0.066385</td>\n",
       "      <td>0.500708</td>\n",
       "      <td>0.511629</td>\n",
       "      <td>-0.288674</td>\n",
       "      <td>-0.013204</td>\n",
       "      <td>-0.288196</td>\n",
       "      <td>-0.235361</td>\n",
       "      <td>-0.415117</td>\n",
       "      <td>0.340920</td>\n",
       "      <td>0.286861</td>\n",
       "      <td>0.116525</td>\n",
       "      <td>0.702189</td>\n",
       "    </tr>\n",
       "    <tr>\n",
       "      <th>L</th>\n",
       "      <td>-0.928679</td>\n",
       "      <td>1.000000</td>\n",
       "      <td>-0.082743</td>\n",
       "      <td>-0.981249</td>\n",
       "      <td>-0.762336</td>\n",
       "      <td>0.687862</td>\n",
       "      <td>-0.131508</td>\n",
       "      <td>-0.570328</td>\n",
       "      <td>-0.563019</td>\n",
       "      <td>0.240403</td>\n",
       "      <td>-0.060553</td>\n",
       "      <td>0.238444</td>\n",
       "      <td>0.147774</td>\n",
       "      <td>0.369705</td>\n",
       "      <td>-0.342104</td>\n",
       "      <td>-0.245194</td>\n",
       "      <td>-0.114605</td>\n",
       "      <td>-0.738338</td>\n",
       "    </tr>\n",
       "    <tr>\n",
       "      <th>OTL</th>\n",
       "      <td>-0.292770</td>\n",
       "      <td>-0.082743</td>\n",
       "      <td>1.000000</td>\n",
       "      <td>-0.110891</td>\n",
       "      <td>0.013436</td>\n",
       "      <td>0.101902</td>\n",
       "      <td>0.160666</td>\n",
       "      <td>0.124962</td>\n",
       "      <td>0.076776</td>\n",
       "      <td>0.155886</td>\n",
       "      <td>0.191594</td>\n",
       "      <td>0.159651</td>\n",
       "      <td>0.251441</td>\n",
       "      <td>0.162284</td>\n",
       "      <td>-0.034074</td>\n",
       "      <td>-0.138663</td>\n",
       "      <td>-0.017640</td>\n",
       "      <td>0.016730</td>\n",
       "    </tr>\n",
       "    <tr>\n",
       "      <th>PTS</th>\n",
       "      <td>0.982751</td>\n",
       "      <td>-0.981249</td>\n",
       "      <td>-0.110891</td>\n",
       "      <td>1.000000</td>\n",
       "      <td>0.757643</td>\n",
       "      <td>-0.705681</td>\n",
       "      <td>0.100073</td>\n",
       "      <td>0.544592</td>\n",
       "      <td>0.546623</td>\n",
       "      <td>-0.269891</td>\n",
       "      <td>0.023331</td>\n",
       "      <td>-0.268666</td>\n",
       "      <td>-0.195998</td>\n",
       "      <td>-0.400076</td>\n",
       "      <td>0.347754</td>\n",
       "      <td>0.271338</td>\n",
       "      <td>0.117702</td>\n",
       "      <td>0.733073</td>\n",
       "    </tr>\n",
       "    <tr>\n",
       "      <th>GF</th>\n",
       "      <td>0.726440</td>\n",
       "      <td>-0.762336</td>\n",
       "      <td>0.013436</td>\n",
       "      <td>0.757643</td>\n",
       "      <td>1.000000</td>\n",
       "      <td>-0.173744</td>\n",
       "      <td>0.197135</td>\n",
       "      <td>0.707594</td>\n",
       "      <td>0.690522</td>\n",
       "      <td>-0.088018</td>\n",
       "      <td>-0.128328</td>\n",
       "      <td>-0.093969</td>\n",
       "      <td>0.072793</td>\n",
       "      <td>0.131932</td>\n",
       "      <td>-0.121840</td>\n",
       "      <td>0.241128</td>\n",
       "      <td>-0.000639</td>\n",
       "      <td>0.628782</td>\n",
       "    </tr>\n",
       "    <tr>\n",
       "      <th>GA</th>\n",
       "      <td>-0.697909</td>\n",
       "      <td>0.687862</td>\n",
       "      <td>0.101902</td>\n",
       "      <td>-0.705681</td>\n",
       "      <td>-0.173744</td>\n",
       "      <td>1.000000</td>\n",
       "      <td>0.048616</td>\n",
       "      <td>-0.190121</td>\n",
       "      <td>-0.221839</td>\n",
       "      <td>0.294840</td>\n",
       "      <td>-0.211806</td>\n",
       "      <td>0.285055</td>\n",
       "      <td>0.333322</td>\n",
       "      <td>0.752319</td>\n",
       "      <td>-0.706130</td>\n",
       "      <td>-0.225811</td>\n",
       "      <td>-0.013639</td>\n",
       "      <td>-0.516310</td>\n",
       "    </tr>\n",
       "    <tr>\n",
       "      <th>ADV</th>\n",
       "      <td>0.066385</td>\n",
       "      <td>-0.131508</td>\n",
       "      <td>0.160666</td>\n",
       "      <td>0.100073</td>\n",
       "      <td>0.197135</td>\n",
       "      <td>0.048616</td>\n",
       "      <td>1.000000</td>\n",
       "      <td>0.361830</td>\n",
       "      <td>0.030407</td>\n",
       "      <td>0.013981</td>\n",
       "      <td>-0.020124</td>\n",
       "      <td>0.012212</td>\n",
       "      <td>0.036038</td>\n",
       "      <td>0.026500</td>\n",
       "      <td>-0.018003</td>\n",
       "      <td>-0.147727</td>\n",
       "      <td>0.336122</td>\n",
       "      <td>0.001855</td>\n",
       "    </tr>\n",
       "    <tr>\n",
       "      <th>PPGF</th>\n",
       "      <td>0.500708</td>\n",
       "      <td>-0.570328</td>\n",
       "      <td>0.124962</td>\n",
       "      <td>0.544592</td>\n",
       "      <td>0.707594</td>\n",
       "      <td>-0.190121</td>\n",
       "      <td>0.361830</td>\n",
       "      <td>1.000000</td>\n",
       "      <td>0.941621</td>\n",
       "      <td>-0.106643</td>\n",
       "      <td>-0.101229</td>\n",
       "      <td>-0.113766</td>\n",
       "      <td>0.175278</td>\n",
       "      <td>0.102027</td>\n",
       "      <td>-0.008276</td>\n",
       "      <td>0.200523</td>\n",
       "      <td>-0.041774</td>\n",
       "      <td>0.485366</td>\n",
       "    </tr>\n",
       "    <tr>\n",
       "      <th>PCTG</th>\n",
       "      <td>0.511629</td>\n",
       "      <td>-0.563019</td>\n",
       "      <td>0.076776</td>\n",
       "      <td>0.546623</td>\n",
       "      <td>0.690522</td>\n",
       "      <td>-0.221839</td>\n",
       "      <td>0.030407</td>\n",
       "      <td>0.941621</td>\n",
       "      <td>1.000000</td>\n",
       "      <td>-0.095849</td>\n",
       "      <td>-0.101385</td>\n",
       "      <td>-0.103045</td>\n",
       "      <td>0.186018</td>\n",
       "      <td>0.105103</td>\n",
       "      <td>-0.002295</td>\n",
       "      <td>0.260495</td>\n",
       "      <td>-0.167621</td>\n",
       "      <td>0.523972</td>\n",
       "    </tr>\n",
       "    <tr>\n",
       "      <th>PEN</th>\n",
       "      <td>-0.288674</td>\n",
       "      <td>0.240403</td>\n",
       "      <td>0.155886</td>\n",
       "      <td>-0.269891</td>\n",
       "      <td>-0.088018</td>\n",
       "      <td>0.294840</td>\n",
       "      <td>0.013981</td>\n",
       "      <td>-0.106643</td>\n",
       "      <td>-0.095849</td>\n",
       "      <td>1.000000</td>\n",
       "      <td>0.193167</td>\n",
       "      <td>0.999316</td>\n",
       "      <td>0.723299</td>\n",
       "      <td>0.416691</td>\n",
       "      <td>-0.077509</td>\n",
       "      <td>0.100668</td>\n",
       "      <td>0.092521</td>\n",
       "      <td>-0.109219</td>\n",
       "    </tr>\n",
       "    <tr>\n",
       "      <th>BMI</th>\n",
       "      <td>-0.013204</td>\n",
       "      <td>-0.060553</td>\n",
       "      <td>0.191594</td>\n",
       "      <td>0.023331</td>\n",
       "      <td>-0.128328</td>\n",
       "      <td>-0.211806</td>\n",
       "      <td>-0.020124</td>\n",
       "      <td>-0.101229</td>\n",
       "      <td>-0.101385</td>\n",
       "      <td>0.193167</td>\n",
       "      <td>1.000000</td>\n",
       "      <td>0.226625</td>\n",
       "      <td>0.160640</td>\n",
       "      <td>-0.076393</td>\n",
       "      <td>0.194159</td>\n",
       "      <td>0.171771</td>\n",
       "      <td>-0.134407</td>\n",
       "      <td>-0.070037</td>\n",
       "    </tr>\n",
       "    <tr>\n",
       "      <th>AVG</th>\n",
       "      <td>-0.288196</td>\n",
       "      <td>0.238444</td>\n",
       "      <td>0.159651</td>\n",
       "      <td>-0.268666</td>\n",
       "      <td>-0.093969</td>\n",
       "      <td>0.285055</td>\n",
       "      <td>0.012212</td>\n",
       "      <td>-0.113766</td>\n",
       "      <td>-0.103045</td>\n",
       "      <td>0.999316</td>\n",
       "      <td>0.226625</td>\n",
       "      <td>1.000000</td>\n",
       "      <td>0.724018</td>\n",
       "      <td>0.411736</td>\n",
       "      <td>-0.071133</td>\n",
       "      <td>0.102994</td>\n",
       "      <td>0.082290</td>\n",
       "      <td>-0.111681</td>\n",
       "    </tr>\n",
       "    <tr>\n",
       "      <th>SHT</th>\n",
       "      <td>-0.235361</td>\n",
       "      <td>0.147774</td>\n",
       "      <td>0.251441</td>\n",
       "      <td>-0.195998</td>\n",
       "      <td>0.072793</td>\n",
       "      <td>0.333322</td>\n",
       "      <td>0.036038</td>\n",
       "      <td>0.175278</td>\n",
       "      <td>0.186018</td>\n",
       "      <td>0.723299</td>\n",
       "      <td>0.160640</td>\n",
       "      <td>0.724018</td>\n",
       "      <td>1.000000</td>\n",
       "      <td>0.558859</td>\n",
       "      <td>-0.065868</td>\n",
       "      <td>0.126763</td>\n",
       "      <td>0.088625</td>\n",
       "      <td>0.003159</td>\n",
       "    </tr>\n",
       "    <tr>\n",
       "      <th>PPGA</th>\n",
       "      <td>-0.415117</td>\n",
       "      <td>0.369705</td>\n",
       "      <td>0.162284</td>\n",
       "      <td>-0.400076</td>\n",
       "      <td>0.131932</td>\n",
       "      <td>0.752319</td>\n",
       "      <td>0.026500</td>\n",
       "      <td>0.102027</td>\n",
       "      <td>0.105103</td>\n",
       "      <td>0.416691</td>\n",
       "      <td>-0.076393</td>\n",
       "      <td>0.411736</td>\n",
       "      <td>0.558859</td>\n",
       "      <td>1.000000</td>\n",
       "      <td>-0.860926</td>\n",
       "      <td>-0.176556</td>\n",
       "      <td>-0.219196</td>\n",
       "      <td>-0.153570</td>\n",
       "    </tr>\n",
       "    <tr>\n",
       "      <th>PKPCT</th>\n",
       "      <td>0.340920</td>\n",
       "      <td>-0.342104</td>\n",
       "      <td>-0.034074</td>\n",
       "      <td>0.347754</td>\n",
       "      <td>-0.121840</td>\n",
       "      <td>-0.706130</td>\n",
       "      <td>-0.018003</td>\n",
       "      <td>-0.008276</td>\n",
       "      <td>-0.002295</td>\n",
       "      <td>-0.077509</td>\n",
       "      <td>0.194159</td>\n",
       "      <td>-0.071133</td>\n",
       "      <td>-0.065868</td>\n",
       "      <td>-0.860926</td>\n",
       "      <td>1.000000</td>\n",
       "      <td>0.291009</td>\n",
       "      <td>0.327445</td>\n",
       "      <td>0.178913</td>\n",
       "    </tr>\n",
       "    <tr>\n",
       "      <th>SHGF</th>\n",
       "      <td>0.286861</td>\n",
       "      <td>-0.245194</td>\n",
       "      <td>-0.138663</td>\n",
       "      <td>0.271338</td>\n",
       "      <td>0.241128</td>\n",
       "      <td>-0.225811</td>\n",
       "      <td>-0.147727</td>\n",
       "      <td>0.200523</td>\n",
       "      <td>0.260495</td>\n",
       "      <td>0.100668</td>\n",
       "      <td>0.171771</td>\n",
       "      <td>0.102994</td>\n",
       "      <td>0.126763</td>\n",
       "      <td>-0.176556</td>\n",
       "      <td>0.291009</td>\n",
       "      <td>1.000000</td>\n",
       "      <td>-0.025465</td>\n",
       "      <td>0.274896</td>\n",
       "    </tr>\n",
       "    <tr>\n",
       "      <th>SHGA</th>\n",
       "      <td>0.116525</td>\n",
       "      <td>-0.114605</td>\n",
       "      <td>-0.017640</td>\n",
       "      <td>0.117702</td>\n",
       "      <td>-0.000639</td>\n",
       "      <td>-0.013639</td>\n",
       "      <td>0.336122</td>\n",
       "      <td>-0.041774</td>\n",
       "      <td>-0.167621</td>\n",
       "      <td>0.092521</td>\n",
       "      <td>-0.134407</td>\n",
       "      <td>0.082290</td>\n",
       "      <td>0.088625</td>\n",
       "      <td>-0.219196</td>\n",
       "      <td>0.327445</td>\n",
       "      <td>-0.025465</td>\n",
       "      <td>1.000000</td>\n",
       "      <td>-0.050957</td>\n",
       "    </tr>\n",
       "    <tr>\n",
       "      <th>FG</th>\n",
       "      <td>0.702189</td>\n",
       "      <td>-0.738338</td>\n",
       "      <td>0.016730</td>\n",
       "      <td>0.733073</td>\n",
       "      <td>0.628782</td>\n",
       "      <td>-0.516310</td>\n",
       "      <td>0.001855</td>\n",
       "      <td>0.485366</td>\n",
       "      <td>0.523972</td>\n",
       "      <td>-0.109219</td>\n",
       "      <td>-0.070037</td>\n",
       "      <td>-0.111681</td>\n",
       "      <td>0.003159</td>\n",
       "      <td>-0.153570</td>\n",
       "      <td>0.178913</td>\n",
       "      <td>0.274896</td>\n",
       "      <td>-0.050957</td>\n",
       "      <td>1.000000</td>\n",
       "    </tr>\n",
       "  </tbody>\n",
       "</table>\n",
       "</div>"
      ],
      "text/plain": [
       "              W         L       OTL       PTS        GF        GA       ADV  \\\n",
       "W      1.000000 -0.928679 -0.292770  0.982751  0.726440 -0.697909  0.066385   \n",
       "L     -0.928679  1.000000 -0.082743 -0.981249 -0.762336  0.687862 -0.131508   \n",
       "OTL   -0.292770 -0.082743  1.000000 -0.110891  0.013436  0.101902  0.160666   \n",
       "PTS    0.982751 -0.981249 -0.110891  1.000000  0.757643 -0.705681  0.100073   \n",
       "GF     0.726440 -0.762336  0.013436  0.757643  1.000000 -0.173744  0.197135   \n",
       "GA    -0.697909  0.687862  0.101902 -0.705681 -0.173744  1.000000  0.048616   \n",
       "ADV    0.066385 -0.131508  0.160666  0.100073  0.197135  0.048616  1.000000   \n",
       "PPGF   0.500708 -0.570328  0.124962  0.544592  0.707594 -0.190121  0.361830   \n",
       "PCTG   0.511629 -0.563019  0.076776  0.546623  0.690522 -0.221839  0.030407   \n",
       "PEN   -0.288674  0.240403  0.155886 -0.269891 -0.088018  0.294840  0.013981   \n",
       "BMI   -0.013204 -0.060553  0.191594  0.023331 -0.128328 -0.211806 -0.020124   \n",
       "AVG   -0.288196  0.238444  0.159651 -0.268666 -0.093969  0.285055  0.012212   \n",
       "SHT   -0.235361  0.147774  0.251441 -0.195998  0.072793  0.333322  0.036038   \n",
       "PPGA  -0.415117  0.369705  0.162284 -0.400076  0.131932  0.752319  0.026500   \n",
       "PKPCT  0.340920 -0.342104 -0.034074  0.347754 -0.121840 -0.706130 -0.018003   \n",
       "SHGF   0.286861 -0.245194 -0.138663  0.271338  0.241128 -0.225811 -0.147727   \n",
       "SHGA   0.116525 -0.114605 -0.017640  0.117702 -0.000639 -0.013639  0.336122   \n",
       "FG     0.702189 -0.738338  0.016730  0.733073  0.628782 -0.516310  0.001855   \n",
       "\n",
       "           PPGF      PCTG       PEN       BMI       AVG       SHT      PPGA  \\\n",
       "W      0.500708  0.511629 -0.288674 -0.013204 -0.288196 -0.235361 -0.415117   \n",
       "L     -0.570328 -0.563019  0.240403 -0.060553  0.238444  0.147774  0.369705   \n",
       "OTL    0.124962  0.076776  0.155886  0.191594  0.159651  0.251441  0.162284   \n",
       "PTS    0.544592  0.546623 -0.269891  0.023331 -0.268666 -0.195998 -0.400076   \n",
       "GF     0.707594  0.690522 -0.088018 -0.128328 -0.093969  0.072793  0.131932   \n",
       "GA    -0.190121 -0.221839  0.294840 -0.211806  0.285055  0.333322  0.752319   \n",
       "ADV    0.361830  0.030407  0.013981 -0.020124  0.012212  0.036038  0.026500   \n",
       "PPGF   1.000000  0.941621 -0.106643 -0.101229 -0.113766  0.175278  0.102027   \n",
       "PCTG   0.941621  1.000000 -0.095849 -0.101385 -0.103045  0.186018  0.105103   \n",
       "PEN   -0.106643 -0.095849  1.000000  0.193167  0.999316  0.723299  0.416691   \n",
       "BMI   -0.101229 -0.101385  0.193167  1.000000  0.226625  0.160640 -0.076393   \n",
       "AVG   -0.113766 -0.103045  0.999316  0.226625  1.000000  0.724018  0.411736   \n",
       "SHT    0.175278  0.186018  0.723299  0.160640  0.724018  1.000000  0.558859   \n",
       "PPGA   0.102027  0.105103  0.416691 -0.076393  0.411736  0.558859  1.000000   \n",
       "PKPCT -0.008276 -0.002295 -0.077509  0.194159 -0.071133 -0.065868 -0.860926   \n",
       "SHGF   0.200523  0.260495  0.100668  0.171771  0.102994  0.126763 -0.176556   \n",
       "SHGA  -0.041774 -0.167621  0.092521 -0.134407  0.082290  0.088625 -0.219196   \n",
       "FG     0.485366  0.523972 -0.109219 -0.070037 -0.111681  0.003159 -0.153570   \n",
       "\n",
       "          PKPCT      SHGF      SHGA        FG  \n",
       "W      0.340920  0.286861  0.116525  0.702189  \n",
       "L     -0.342104 -0.245194 -0.114605 -0.738338  \n",
       "OTL   -0.034074 -0.138663 -0.017640  0.016730  \n",
       "PTS    0.347754  0.271338  0.117702  0.733073  \n",
       "GF    -0.121840  0.241128 -0.000639  0.628782  \n",
       "GA    -0.706130 -0.225811 -0.013639 -0.516310  \n",
       "ADV   -0.018003 -0.147727  0.336122  0.001855  \n",
       "PPGF  -0.008276  0.200523 -0.041774  0.485366  \n",
       "PCTG  -0.002295  0.260495 -0.167621  0.523972  \n",
       "PEN   -0.077509  0.100668  0.092521 -0.109219  \n",
       "BMI    0.194159  0.171771 -0.134407 -0.070037  \n",
       "AVG   -0.071133  0.102994  0.082290 -0.111681  \n",
       "SHT   -0.065868  0.126763  0.088625  0.003159  \n",
       "PPGA  -0.860926 -0.176556 -0.219196 -0.153570  \n",
       "PKPCT  1.000000  0.291009  0.327445  0.178913  \n",
       "SHGF   0.291009  1.000000 -0.025465  0.274896  \n",
       "SHGA   0.327445 -0.025465  1.000000 -0.050957  \n",
       "FG     0.178913  0.274896 -0.050957  1.000000  "
      ]
     },
     "execution_count": 802,
     "metadata": {},
     "output_type": "execute_result"
    }
   ],
   "source": [
    "corr = myDataFrame.corr()\n",
    "corr"
   ]
  },
  {
   "cell_type": "code",
   "execution_count": 803,
   "metadata": {},
   "outputs": [
    {
     "name": "stdout",
     "output_type": "stream",
     "text": [
      "W        1.000000\n",
      "PTS      0.982751\n",
      "GF       0.726440\n",
      "FG       0.702189\n",
      "PCTG     0.511629\n",
      "PPGF     0.500708\n",
      "PKPCT    0.340920\n",
      "SHGF     0.286861\n",
      "SHGA     0.116525\n",
      "ADV      0.066385\n",
      "BMI     -0.013204\n",
      "SHT     -0.235361\n",
      "AVG     -0.288196\n",
      "PEN     -0.288674\n",
      "OTL     -0.292770\n",
      "PPGA    -0.415117\n",
      "GA      -0.697909\n",
      "L       -0.928679\n",
      "Name: W, dtype: float64\n"
     ]
    }
   ],
   "source": [
    "\n",
    "corr.sort_values(['W'], ascending = False, inplace = True)\n",
    "print(corr.W)"
   ]
  },
  {
   "cell_type": "markdown",
   "metadata": {},
   "source": [
    " I think it makes sense to take out some components. I want to remove everything that has a correlation value that's less than about |.3| as that data's variability is not contributing to the win variability shown with the low correlation. I'm hoping this will make things a little easier to analyze as 12 independent variables is fairly large. The PCA analysis shows that we could remove 4 - 6 components and still capture the variability of the data."
   ]
  },
  {
   "cell_type": "code",
   "execution_count": 804,
   "metadata": {},
   "outputs": [
    {
     "data": {
      "text/html": [
       "<div>\n",
       "<style scoped>\n",
       "    .dataframe tbody tr th:only-of-type {\n",
       "        vertical-align: middle;\n",
       "    }\n",
       "\n",
       "    .dataframe tbody tr th {\n",
       "        vertical-align: top;\n",
       "    }\n",
       "\n",
       "    .dataframe thead th {\n",
       "        text-align: right;\n",
       "    }\n",
       "</style>\n",
       "<table border=\"1\" class=\"dataframe\">\n",
       "  <thead>\n",
       "    <tr style=\"text-align: right;\">\n",
       "      <th></th>\n",
       "      <th>Team</th>\n",
       "      <th>W</th>\n",
       "      <th>L</th>\n",
       "      <th>OTL</th>\n",
       "      <th>PTS</th>\n",
       "      <th>GF</th>\n",
       "      <th>GA</th>\n",
       "      <th>PPGF</th>\n",
       "      <th>PCTG</th>\n",
       "      <th>PEN</th>\n",
       "      <th>PPGA</th>\n",
       "      <th>PKPCT</th>\n",
       "      <th>SHGF</th>\n",
       "      <th>FG</th>\n",
       "    </tr>\n",
       "  </thead>\n",
       "  <tbody>\n",
       "    <tr>\n",
       "      <th>0</th>\n",
       "      <td>Anaheim</td>\n",
       "      <td>42</td>\n",
       "      <td>33</td>\n",
       "      <td>7</td>\n",
       "      <td>91</td>\n",
       "      <td>238</td>\n",
       "      <td>235</td>\n",
       "      <td>73</td>\n",
       "      <td>23.6</td>\n",
       "      <td>1418</td>\n",
       "      <td>78</td>\n",
       "      <td>79.7</td>\n",
       "      <td>6</td>\n",
       "      <td>43</td>\n",
       "    </tr>\n",
       "    <tr>\n",
       "      <th>1</th>\n",
       "      <td>Atlanta</td>\n",
       "      <td>35</td>\n",
       "      <td>41</td>\n",
       "      <td>6</td>\n",
       "      <td>76</td>\n",
       "      <td>250</td>\n",
       "      <td>279</td>\n",
       "      <td>69</td>\n",
       "      <td>19.3</td>\n",
       "      <td>1244</td>\n",
       "      <td>88</td>\n",
       "      <td>76.0</td>\n",
       "      <td>13</td>\n",
       "      <td>39</td>\n",
       "    </tr>\n",
       "    <tr>\n",
       "      <th>2</th>\n",
       "      <td>Boston</td>\n",
       "      <td>53</td>\n",
       "      <td>19</td>\n",
       "      <td>10</td>\n",
       "      <td>116</td>\n",
       "      <td>270</td>\n",
       "      <td>190</td>\n",
       "      <td>74</td>\n",
       "      <td>23.6</td>\n",
       "      <td>1016</td>\n",
       "      <td>54</td>\n",
       "      <td>82.4</td>\n",
       "      <td>8</td>\n",
       "      <td>47</td>\n",
       "    </tr>\n",
       "    <tr>\n",
       "      <th>3</th>\n",
       "      <td>Buffalo</td>\n",
       "      <td>41</td>\n",
       "      <td>32</td>\n",
       "      <td>9</td>\n",
       "      <td>91</td>\n",
       "      <td>242</td>\n",
       "      <td>229</td>\n",
       "      <td>75</td>\n",
       "      <td>21.0</td>\n",
       "      <td>1105</td>\n",
       "      <td>61</td>\n",
       "      <td>81.8</td>\n",
       "      <td>7</td>\n",
       "      <td>44</td>\n",
       "    </tr>\n",
       "    <tr>\n",
       "      <th>4</th>\n",
       "      <td>Carolina</td>\n",
       "      <td>45</td>\n",
       "      <td>30</td>\n",
       "      <td>7</td>\n",
       "      <td>97</td>\n",
       "      <td>236</td>\n",
       "      <td>221</td>\n",
       "      <td>70</td>\n",
       "      <td>18.7</td>\n",
       "      <td>786</td>\n",
       "      <td>59</td>\n",
       "      <td>80.4</td>\n",
       "      <td>8</td>\n",
       "      <td>39</td>\n",
       "    </tr>\n",
       "  </tbody>\n",
       "</table>\n",
       "</div>"
      ],
      "text/plain": [
       "       Team   W   L  OTL  PTS   GF   GA  PPGF  PCTG   PEN  PPGA  PKPCT  SHGF  \\\n",
       "0   Anaheim  42  33    7   91  238  235    73  23.6  1418    78   79.7     6   \n",
       "1   Atlanta  35  41    6   76  250  279    69  19.3  1244    88   76.0    13   \n",
       "2    Boston  53  19   10  116  270  190    74  23.6  1016    54   82.4     8   \n",
       "3   Buffalo  41  32    9   91  242  229    75  21.0  1105    61   81.8     7   \n",
       "4  Carolina  45  30    7   97  236  221    70  18.7   786    59   80.4     8   \n",
       "\n",
       "   FG  \n",
       "0  43  \n",
       "1  39  \n",
       "2  47  \n",
       "3  44  \n",
       "4  39  "
      ]
     },
     "execution_count": 804,
     "metadata": {},
     "output_type": "execute_result"
    }
   ],
   "source": [
    "df_clean = myDataFrame.drop(['SHGA', 'ADV', 'BMI', 'SHT', 'AVG'], axis=1)\n",
    "\n",
    "df_clean.head()"
   ]
  },
  {
   "cell_type": "markdown",
   "metadata": {},
   "source": [
    "Note what was removed from the data frame. The BMI, and AVG which are Total bench minor minutes and average penalty minutes per game are actually all contributing to the same idea of how many penalties did the team commit. This is captured within PEN (Total penalty minutes), so I fell comfortable removing those two. Now other things that were removed like SHGA (Short handed goals against) and ADV (total advantages, power play opportunities), and SHT (total times short handed) all show low correlation with total wins and we should be okay to remove them."
   ]
  },
  {
   "cell_type": "markdown",
   "metadata": {},
   "source": [
    "# 4. Regression on 80% of the data points randomly selected."
   ]
  },
  {
   "cell_type": "markdown",
   "metadata": {},
   "source": [
    "Split data"
   ]
  },
  {
   "cell_type": "code",
   "execution_count": 805,
   "metadata": {},
   "outputs": [
    {
     "data": {
      "text/html": [
       "<div>\n",
       "<style scoped>\n",
       "    .dataframe tbody tr th:only-of-type {\n",
       "        vertical-align: middle;\n",
       "    }\n",
       "\n",
       "    .dataframe tbody tr th {\n",
       "        vertical-align: top;\n",
       "    }\n",
       "\n",
       "    .dataframe thead th {\n",
       "        text-align: right;\n",
       "    }\n",
       "</style>\n",
       "<table border=\"1\" class=\"dataframe\">\n",
       "  <thead>\n",
       "    <tr style=\"text-align: right;\">\n",
       "      <th></th>\n",
       "      <th>Team</th>\n",
       "      <th>W</th>\n",
       "      <th>L</th>\n",
       "      <th>OTL</th>\n",
       "      <th>PTS</th>\n",
       "      <th>GF</th>\n",
       "      <th>GA</th>\n",
       "      <th>PPGF</th>\n",
       "      <th>PCTG</th>\n",
       "      <th>PEN</th>\n",
       "      <th>PPGA</th>\n",
       "      <th>PKPCT</th>\n",
       "      <th>SHGF</th>\n",
       "      <th>FG</th>\n",
       "    </tr>\n",
       "  </thead>\n",
       "  <tbody>\n",
       "    <tr>\n",
       "      <th>28</th>\n",
       "      <td>Vancouver</td>\n",
       "      <td>45</td>\n",
       "      <td>27</td>\n",
       "      <td>10</td>\n",
       "      <td>100</td>\n",
       "      <td>243</td>\n",
       "      <td>213</td>\n",
       "      <td>67</td>\n",
       "      <td>18.8</td>\n",
       "      <td>1323</td>\n",
       "      <td>69</td>\n",
       "      <td>81.4</td>\n",
       "      <td>7</td>\n",
       "      <td>47</td>\n",
       "    </tr>\n",
       "    <tr>\n",
       "      <th>24</th>\n",
       "      <td>SanJose</td>\n",
       "      <td>53</td>\n",
       "      <td>18</td>\n",
       "      <td>11</td>\n",
       "      <td>117</td>\n",
       "      <td>251</td>\n",
       "      <td>199</td>\n",
       "      <td>87</td>\n",
       "      <td>24.2</td>\n",
       "      <td>1037</td>\n",
       "      <td>51</td>\n",
       "      <td>83.3</td>\n",
       "      <td>12</td>\n",
       "      <td>46</td>\n",
       "    </tr>\n",
       "    <tr>\n",
       "      <th>12</th>\n",
       "      <td>Florida</td>\n",
       "      <td>41</td>\n",
       "      <td>30</td>\n",
       "      <td>11</td>\n",
       "      <td>93</td>\n",
       "      <td>231</td>\n",
       "      <td>223</td>\n",
       "      <td>51</td>\n",
       "      <td>16.6</td>\n",
       "      <td>884</td>\n",
       "      <td>54</td>\n",
       "      <td>82.6</td>\n",
       "      <td>7</td>\n",
       "      <td>39</td>\n",
       "    </tr>\n",
       "    <tr>\n",
       "      <th>0</th>\n",
       "      <td>Anaheim</td>\n",
       "      <td>42</td>\n",
       "      <td>33</td>\n",
       "      <td>7</td>\n",
       "      <td>91</td>\n",
       "      <td>238</td>\n",
       "      <td>235</td>\n",
       "      <td>73</td>\n",
       "      <td>23.6</td>\n",
       "      <td>1418</td>\n",
       "      <td>78</td>\n",
       "      <td>79.7</td>\n",
       "      <td>6</td>\n",
       "      <td>43</td>\n",
       "    </tr>\n",
       "    <tr>\n",
       "      <th>4</th>\n",
       "      <td>Carolina</td>\n",
       "      <td>45</td>\n",
       "      <td>30</td>\n",
       "      <td>7</td>\n",
       "      <td>97</td>\n",
       "      <td>236</td>\n",
       "      <td>221</td>\n",
       "      <td>70</td>\n",
       "      <td>18.7</td>\n",
       "      <td>786</td>\n",
       "      <td>59</td>\n",
       "      <td>80.4</td>\n",
       "      <td>8</td>\n",
       "      <td>39</td>\n",
       "    </tr>\n",
       "  </tbody>\n",
       "</table>\n",
       "</div>"
      ],
      "text/plain": [
       "         Team   W   L  OTL  PTS   GF   GA  PPGF  PCTG   PEN  PPGA  PKPCT  \\\n",
       "28  Vancouver  45  27   10  100  243  213    67  18.8  1323    69   81.4   \n",
       "24    SanJose  53  18   11  117  251  199    87  24.2  1037    51   83.3   \n",
       "12    Florida  41  30   11   93  231  223    51  16.6   884    54   82.6   \n",
       "0     Anaheim  42  33    7   91  238  235    73  23.6  1418    78   79.7   \n",
       "4    Carolina  45  30    7   97  236  221    70  18.7   786    59   80.4   \n",
       "\n",
       "    SHGF  FG  \n",
       "28     7  47  \n",
       "24    12  46  \n",
       "12     7  39  \n",
       "0      6  43  \n",
       "4      8  39  "
      ]
     },
     "execution_count": 805,
     "metadata": {},
     "output_type": "execute_result"
    }
   ],
   "source": [
    "df_train, df_test = train_test_split(df_clean, train_size = 0.8, random_state = 42)\n",
    "df_train.head()"
   ]
  },
  {
   "cell_type": "code",
   "execution_count": 806,
   "metadata": {},
   "outputs": [
    {
     "data": {
      "text/html": [
       "<div>\n",
       "<style scoped>\n",
       "    .dataframe tbody tr th:only-of-type {\n",
       "        vertical-align: middle;\n",
       "    }\n",
       "\n",
       "    .dataframe tbody tr th {\n",
       "        vertical-align: top;\n",
       "    }\n",
       "\n",
       "    .dataframe thead th {\n",
       "        text-align: right;\n",
       "    }\n",
       "</style>\n",
       "<table border=\"1\" class=\"dataframe\">\n",
       "  <thead>\n",
       "    <tr style=\"text-align: right;\">\n",
       "      <th></th>\n",
       "      <th>Team</th>\n",
       "      <th>W</th>\n",
       "      <th>L</th>\n",
       "      <th>OTL</th>\n",
       "      <th>PTS</th>\n",
       "      <th>GF</th>\n",
       "      <th>GA</th>\n",
       "      <th>PPGF</th>\n",
       "      <th>PCTG</th>\n",
       "      <th>PEN</th>\n",
       "      <th>PPGA</th>\n",
       "      <th>PKPCT</th>\n",
       "      <th>SHGF</th>\n",
       "      <th>FG</th>\n",
       "    </tr>\n",
       "  </thead>\n",
       "  <tbody>\n",
       "    <tr>\n",
       "      <th>27</th>\n",
       "      <td>Toronto</td>\n",
       "      <td>34</td>\n",
       "      <td>35</td>\n",
       "      <td>13</td>\n",
       "      <td>81</td>\n",
       "      <td>244</td>\n",
       "      <td>286</td>\n",
       "      <td>62</td>\n",
       "      <td>18.8</td>\n",
       "      <td>1113</td>\n",
       "      <td>78</td>\n",
       "      <td>74.7</td>\n",
       "      <td>6</td>\n",
       "      <td>40</td>\n",
       "    </tr>\n",
       "    <tr>\n",
       "      <th>15</th>\n",
       "      <td>Montreal</td>\n",
       "      <td>41</td>\n",
       "      <td>30</td>\n",
       "      <td>11</td>\n",
       "      <td>93</td>\n",
       "      <td>242</td>\n",
       "      <td>240</td>\n",
       "      <td>72</td>\n",
       "      <td>19.2</td>\n",
       "      <td>1223</td>\n",
       "      <td>65</td>\n",
       "      <td>82.4</td>\n",
       "      <td>10</td>\n",
       "      <td>38</td>\n",
       "    </tr>\n",
       "    <tr>\n",
       "      <th>23</th>\n",
       "      <td>Pittsburgh</td>\n",
       "      <td>45</td>\n",
       "      <td>28</td>\n",
       "      <td>9</td>\n",
       "      <td>99</td>\n",
       "      <td>258</td>\n",
       "      <td>233</td>\n",
       "      <td>62</td>\n",
       "      <td>17.2</td>\n",
       "      <td>1106</td>\n",
       "      <td>60</td>\n",
       "      <td>82.7</td>\n",
       "      <td>7</td>\n",
       "      <td>46</td>\n",
       "    </tr>\n",
       "    <tr>\n",
       "      <th>17</th>\n",
       "      <td>Nashville</td>\n",
       "      <td>40</td>\n",
       "      <td>34</td>\n",
       "      <td>8</td>\n",
       "      <td>88</td>\n",
       "      <td>207</td>\n",
       "      <td>228</td>\n",
       "      <td>50</td>\n",
       "      <td>15.7</td>\n",
       "      <td>982</td>\n",
       "      <td>59</td>\n",
       "      <td>82.5</td>\n",
       "      <td>9</td>\n",
       "      <td>41</td>\n",
       "    </tr>\n",
       "    <tr>\n",
       "      <th>8</th>\n",
       "      <td>Colorado</td>\n",
       "      <td>32</td>\n",
       "      <td>45</td>\n",
       "      <td>5</td>\n",
       "      <td>69</td>\n",
       "      <td>190</td>\n",
       "      <td>253</td>\n",
       "      <td>50</td>\n",
       "      <td>15.7</td>\n",
       "      <td>1044</td>\n",
       "      <td>64</td>\n",
       "      <td>79.9</td>\n",
       "      <td>4</td>\n",
       "      <td>31</td>\n",
       "    </tr>\n",
       "  </tbody>\n",
       "</table>\n",
       "</div>"
      ],
      "text/plain": [
       "          Team   W   L  OTL  PTS   GF   GA  PPGF  PCTG   PEN  PPGA  PKPCT  \\\n",
       "27     Toronto  34  35   13   81  244  286    62  18.8  1113    78   74.7   \n",
       "15    Montreal  41  30   11   93  242  240    72  19.2  1223    65   82.4   \n",
       "23  Pittsburgh  45  28    9   99  258  233    62  17.2  1106    60   82.7   \n",
       "17   Nashville  40  34    8   88  207  228    50  15.7   982    59   82.5   \n",
       "8     Colorado  32  45    5   69  190  253    50  15.7  1044    64   79.9   \n",
       "\n",
       "    SHGF  FG  \n",
       "27     6  40  \n",
       "15    10  38  \n",
       "23     7  46  \n",
       "17     9  41  \n",
       "8      4  31  "
      ]
     },
     "execution_count": 806,
     "metadata": {},
     "output_type": "execute_result"
    }
   ],
   "source": [
    "df_test.head()"
   ]
  },
  {
   "cell_type": "code",
   "execution_count": 807,
   "metadata": {},
   "outputs": [
    {
     "name": "stdout",
     "output_type": "stream",
     "text": [
      "W        1.000000\n",
      "PTS      0.984472\n",
      "GF       0.747507\n",
      "FG       0.689348\n",
      "PCTG     0.499035\n",
      "PPGF     0.473705\n",
      "PKPCT    0.261678\n",
      "SHGF     0.201712\n",
      "PEN     -0.345162\n",
      "OTL     -0.360044\n",
      "PPGA    -0.397972\n",
      "GA      -0.681475\n",
      "L       -0.933858\n",
      "Name: W, dtype: float64\n"
     ]
    }
   ],
   "source": [
    "#Run correlation again-what items have the most correlation with wins?\n",
    "corr = df_train.corr()\n",
    "corr.sort_values([\"W\"], ascending = False, inplace = True)\n",
    "print(corr.W)"
   ]
  },
  {
   "cell_type": "markdown",
   "metadata": {},
   "source": [
    "Obviously points (PTS) has a large correlation and losses has a large negative correlation. These are directly contributing to the win count via simple formulas and are really just variations of the win count, so these need to be disregarded. Overtime losses (OTL) is also apart of the things that need to be disregarded. By not considering those things it makes sense that the leading correlation with win count is now goals for. As you can't win a game without goals. Another interesting point this table makes is the second most correlated item is FG - games scored first, which says something about the momentum of a game for the team that scores first.\n"
   ]
  },
  {
   "cell_type": "code",
   "execution_count": 808,
   "metadata": {},
   "outputs": [],
   "source": [
    "#Remove items that aren't really are different expressions of Wins (OTL, PTS, and Losses)\n",
    "#Also remove team name as it doesn't aide the data\n",
    "df_train_clean = df_train.drop(['W','PTS', 'OTL', 'L','Team'], axis=1)"
   ]
  },
  {
   "cell_type": "code",
   "execution_count": 809,
   "metadata": {},
   "outputs": [
    {
     "name": "stdout",
     "output_type": "stream",
     "text": [
      "Y:(24,)\n",
      "X: (24, 9)\n"
     ]
    }
   ],
   "source": [
    "#Let's say what X is for our regression\n",
    "X = df_train_clean\n",
    "Y = df_train.W\n",
    "print(\"Y:\" + str(Y.shape))\n",
    "print(\"X: \"+str(X.shape))"
   ]
  },
  {
   "cell_type": "code",
   "execution_count": 810,
   "metadata": {},
   "outputs": [
    {
     "data": {
      "text/html": [
       "<div>\n",
       "<style scoped>\n",
       "    .dataframe tbody tr th:only-of-type {\n",
       "        vertical-align: middle;\n",
       "    }\n",
       "\n",
       "    .dataframe tbody tr th {\n",
       "        vertical-align: top;\n",
       "    }\n",
       "\n",
       "    .dataframe thead th {\n",
       "        text-align: right;\n",
       "    }\n",
       "</style>\n",
       "<table border=\"1\" class=\"dataframe\">\n",
       "  <thead>\n",
       "    <tr style=\"text-align: right;\">\n",
       "      <th></th>\n",
       "      <th>GF</th>\n",
       "      <th>GA</th>\n",
       "      <th>PPGF</th>\n",
       "      <th>PCTG</th>\n",
       "      <th>PEN</th>\n",
       "      <th>PPGA</th>\n",
       "      <th>PKPCT</th>\n",
       "      <th>SHGF</th>\n",
       "      <th>FG</th>\n",
       "    </tr>\n",
       "  </thead>\n",
       "  <tbody>\n",
       "    <tr>\n",
       "      <th>28</th>\n",
       "      <td>243</td>\n",
       "      <td>213</td>\n",
       "      <td>67</td>\n",
       "      <td>18.8</td>\n",
       "      <td>1323</td>\n",
       "      <td>69</td>\n",
       "      <td>81.4</td>\n",
       "      <td>7</td>\n",
       "      <td>47</td>\n",
       "    </tr>\n",
       "    <tr>\n",
       "      <th>24</th>\n",
       "      <td>251</td>\n",
       "      <td>199</td>\n",
       "      <td>87</td>\n",
       "      <td>24.2</td>\n",
       "      <td>1037</td>\n",
       "      <td>51</td>\n",
       "      <td>83.3</td>\n",
       "      <td>12</td>\n",
       "      <td>46</td>\n",
       "    </tr>\n",
       "    <tr>\n",
       "      <th>12</th>\n",
       "      <td>231</td>\n",
       "      <td>223</td>\n",
       "      <td>51</td>\n",
       "      <td>16.6</td>\n",
       "      <td>884</td>\n",
       "      <td>54</td>\n",
       "      <td>82.6</td>\n",
       "      <td>7</td>\n",
       "      <td>39</td>\n",
       "    </tr>\n",
       "    <tr>\n",
       "      <th>0</th>\n",
       "      <td>238</td>\n",
       "      <td>235</td>\n",
       "      <td>73</td>\n",
       "      <td>23.6</td>\n",
       "      <td>1418</td>\n",
       "      <td>78</td>\n",
       "      <td>79.7</td>\n",
       "      <td>6</td>\n",
       "      <td>43</td>\n",
       "    </tr>\n",
       "    <tr>\n",
       "      <th>4</th>\n",
       "      <td>236</td>\n",
       "      <td>221</td>\n",
       "      <td>70</td>\n",
       "      <td>18.7</td>\n",
       "      <td>786</td>\n",
       "      <td>59</td>\n",
       "      <td>80.4</td>\n",
       "      <td>8</td>\n",
       "      <td>39</td>\n",
       "    </tr>\n",
       "  </tbody>\n",
       "</table>\n",
       "</div>"
      ],
      "text/plain": [
       "     GF   GA  PPGF  PCTG   PEN  PPGA  PKPCT  SHGF  FG\n",
       "28  243  213    67  18.8  1323    69   81.4     7  47\n",
       "24  251  199    87  24.2  1037    51   83.3    12  46\n",
       "12  231  223    51  16.6   884    54   82.6     7  39\n",
       "0   238  235    73  23.6  1418    78   79.7     6  43\n",
       "4   236  221    70  18.7   786    59   80.4     8  39"
      ]
     },
     "execution_count": 810,
     "metadata": {},
     "output_type": "execute_result"
    }
   ],
   "source": [
    "X.head()"
   ]
  },
  {
   "cell_type": "code",
   "execution_count": 811,
   "metadata": {},
   "outputs": [
    {
     "data": {
      "text/plain": [
       "28    45\n",
       "24    53\n",
       "12    41\n",
       "0     42\n",
       "4     45\n",
       "Name: W, dtype: int64"
      ]
     },
     "execution_count": 811,
     "metadata": {},
     "output_type": "execute_result"
    }
   ],
   "source": [
    "Y.head()"
   ]
  },
  {
   "cell_type": "code",
   "execution_count": 812,
   "metadata": {},
   "outputs": [],
   "source": [
    "#singleX = df_train_clean.GF #take single example to look at variation w/Y\n",
    "##plt.scatter(singleX, Y)\n",
    "#plt.title(\"Bi-varaite scatter plot\")\n",
    "#plt.xlabel(\"Goals For\")\n",
    "#plt.ylabel(\"Win count\")\n",
    "#plt.show()\n",
    "#THIS DIDN\"T REALLY GIVE US MUCH INFO"
   ]
  },
  {
   "cell_type": "code",
   "execution_count": 813,
   "metadata": {},
   "outputs": [
    {
     "data": {
      "text/plain": [
       "((array([-1.90380091, -1.48287381, -1.22601535, -1.03156092, -0.8698858 ,\n",
       "         -0.7282709 , -0.59996024, -0.48085763, -0.36822879, -0.26009875,\n",
       "         -0.154935  , -0.05146182,  0.05146182,  0.154935  ,  0.26009875,\n",
       "          0.36822879,  0.48085763,  0.59996024,  0.7282709 ,  0.8698858 ,\n",
       "          1.03156092,  1.22601535,  1.48287381,  1.90380091]),\n",
       "  array([24, 26, 34, 35, 36, 36, 38, 40, 41, 41, 41, 41, 42, 43, 44, 45, 45,\n",
       "         46, 46, 50, 51, 51, 53, 53], dtype=int64)),\n",
       " (7.709230400035533, 41.75, 0.9758351537107147))"
      ]
     },
     "execution_count": 813,
     "metadata": {},
     "output_type": "execute_result"
    },
    {
     "data": {
      "image/png": "[encoded data removed]",
      "text/plain": [
       "<Figure size 432x288 with 1 Axes>"
      ]
     },
     "metadata": {
      "needs_background": "light"
     },
     "output_type": "display_data"
    }
   ],
   "source": [
    "from scipy import stats\n",
    "stats.probplot(Y, plot=plt)\n",
    "plt.show()\n"
   ]
  },
  {
   "cell_type": "code",
   "execution_count": 814,
   "metadata": {},
   "outputs": [
    {
     "data": {
      "text/plain": [
       "((array([-1.90380091, -1.48287381, -1.22601535, -1.03156092, -0.8698858 ,\n",
       "         -0.7282709 , -0.59996024, -0.48085763, -0.36822879, -0.26009875,\n",
       "         -0.154935  , -0.05146182,  0.05146182,  0.154935  ,  0.26009875,\n",
       "          0.36822879,  0.48085763,  0.59996024,  0.7282709 ,  0.8698858 ,\n",
       "          1.03156092,  1.22601535,  1.48287381,  1.90380091]),\n",
       "  array([3.17805383, 3.25809654, 3.52636052, 3.55534806, 3.58351894,\n",
       "         3.58351894, 3.63758616, 3.68887945, 3.71357207, 3.71357207,\n",
       "         3.71357207, 3.71357207, 3.73766962, 3.76120012, 3.78418963,\n",
       "         3.80666249, 3.80666249, 3.8286414 , 3.8286414 , 3.91202301,\n",
       "         3.93182563, 3.93182563, 3.97029191, 3.97029191])),\n",
       " (0.197481939114787, 3.713982331268326, 0.9472435878241758))"
      ]
     },
     "execution_count": 814,
     "metadata": {},
     "output_type": "execute_result"
    },
    {
     "data": {
      "image/png": "[encoded data removed]",
      "text/plain": [
       "<Figure size 432x288 with 1 Axes>"
      ]
     },
     "metadata": {
      "needs_background": "light"
     },
     "output_type": "display_data"
    }
   ],
   "source": [
    "stats.probplot(np.log(Y), plot=plt)\n",
    "plt.show()"
   ]
  },
  {
   "cell_type": "markdown",
   "metadata": {},
   "source": [
    "It looks like the logarithmic transform performs slightly better."
   ]
  },
  {
   "cell_type": "code",
   "execution_count": 815,
   "metadata": {},
   "outputs": [
    {
     "data": {
      "text/html": [
       "<table class=\"simpletable\">\n",
       "<caption>OLS Regression Results</caption>\n",
       "<tr>\n",
       "  <th>Dep. Variable:</th>            <td>W</td>        <th>  R-squared:         </th> <td>   0.886</td>\n",
       "</tr>\n",
       "<tr>\n",
       "  <th>Model:</th>                   <td>OLS</td>       <th>  Adj. R-squared:    </th> <td>   0.813</td>\n",
       "</tr>\n",
       "<tr>\n",
       "  <th>Method:</th>             <td>Least Squares</td>  <th>  F-statistic:       </th> <td>   12.09</td>\n",
       "</tr>\n",
       "<tr>\n",
       "  <th>Date:</th>             <td>Sun, 29 Nov 2020</td> <th>  Prob (F-statistic):</th> <td>3.52e-05</td>\n",
       "</tr>\n",
       "<tr>\n",
       "  <th>Time:</th>                 <td>11:37:04</td>     <th>  Log-Likelihood:    </th> <td> -55.997</td>\n",
       "</tr>\n",
       "<tr>\n",
       "  <th>No. Observations:</th>      <td>    24</td>      <th>  AIC:               </th> <td>   132.0</td>\n",
       "</tr>\n",
       "<tr>\n",
       "  <th>Df Residuals:</th>          <td>    14</td>      <th>  BIC:               </th> <td>   143.8</td>\n",
       "</tr>\n",
       "<tr>\n",
       "  <th>Df Model:</th>              <td>     9</td>      <th>                     </th>     <td> </td>   \n",
       "</tr>\n",
       "<tr>\n",
       "  <th>Covariance Type:</th>      <td>nonrobust</td>    <th>                     </th>     <td> </td>   \n",
       "</tr>\n",
       "</table>\n",
       "<table class=\"simpletable\">\n",
       "<tr>\n",
       "    <td></td>       <th>coef</th>     <th>std err</th>      <th>t</th>      <th>P>|t|</th>  <th>[0.025</th>    <th>0.975]</th>  \n",
       "</tr>\n",
       "<tr>\n",
       "  <th>const</th> <td>   74.0351</td> <td>   63.553</td> <td>    1.165</td> <td> 0.264</td> <td>  -62.272</td> <td>  210.342</td>\n",
       "</tr>\n",
       "<tr>\n",
       "  <th>GF</th>    <td>    0.2149</td> <td>    0.045</td> <td>    4.776</td> <td> 0.000</td> <td>    0.118</td> <td>    0.311</td>\n",
       "</tr>\n",
       "<tr>\n",
       "  <th>GA</th>    <td>   -0.1055</td> <td>    0.065</td> <td>   -1.624</td> <td> 0.127</td> <td>   -0.245</td> <td>    0.034</td>\n",
       "</tr>\n",
       "<tr>\n",
       "  <th>PPGF</th>  <td>   -0.0299</td> <td>    0.181</td> <td>   -0.165</td> <td> 0.871</td> <td>   -0.418</td> <td>    0.358</td>\n",
       "</tr>\n",
       "<tr>\n",
       "  <th>PCTG</th>  <td>   -0.0490</td> <td>    0.688</td> <td>   -0.071</td> <td> 0.944</td> <td>   -1.524</td> <td>    1.426</td>\n",
       "</tr>\n",
       "<tr>\n",
       "  <th>PEN</th>   <td>    0.0033</td> <td>    0.006</td> <td>    0.517</td> <td> 0.613</td> <td>   -0.010</td> <td>    0.017</td>\n",
       "</tr>\n",
       "<tr>\n",
       "  <th>PPGA</th>  <td>   -0.2770</td> <td>    0.218</td> <td>   -1.270</td> <td> 0.225</td> <td>   -0.745</td> <td>    0.191</td>\n",
       "</tr>\n",
       "<tr>\n",
       "  <th>PKPCT</th> <td>   -0.6235</td> <td>    0.706</td> <td>   -0.883</td> <td> 0.392</td> <td>   -2.139</td> <td>    0.892</td>\n",
       "</tr>\n",
       "<tr>\n",
       "  <th>SHGF</th>  <td>   -0.0368</td> <td>    0.242</td> <td>   -0.152</td> <td> 0.881</td> <td>   -0.556</td> <td>    0.483</td>\n",
       "</tr>\n",
       "<tr>\n",
       "  <th>FG</th>    <td>    0.2281</td> <td>    0.273</td> <td>    0.836</td> <td> 0.417</td> <td>   -0.357</td> <td>    0.813</td>\n",
       "</tr>\n",
       "</table>\n",
       "<table class=\"simpletable\">\n",
       "<tr>\n",
       "  <th>Omnibus:</th>       <td> 1.189</td> <th>  Durbin-Watson:     </th> <td>   2.001</td>\n",
       "</tr>\n",
       "<tr>\n",
       "  <th>Prob(Omnibus):</th> <td> 0.552</td> <th>  Jarque-Bera (JB):  </th> <td>   1.108</td>\n",
       "</tr>\n",
       "<tr>\n",
       "  <th>Skew:</th>          <td> 0.397</td> <th>  Prob(JB):          </th> <td>   0.575</td>\n",
       "</tr>\n",
       "<tr>\n",
       "  <th>Kurtosis:</th>      <td> 2.309</td> <th>  Cond. No.          </th> <td>1.14e+05</td>\n",
       "</tr>\n",
       "</table><br/><br/>Warnings:<br/>[1] Standard Errors assume that the covariance matrix of the errors is correctly specified.<br/>[2] The condition number is large, 1.14e+05. This might indicate that there are<br/>strong multicollinearity or other numerical problems."
      ],
      "text/plain": [
       "<class 'statsmodels.iolib.summary.Summary'>\n",
       "\"\"\"\n",
       "                            OLS Regression Results                            \n",
       "==============================================================================\n",
       "Dep. Variable:                      W   R-squared:                       0.886\n",
       "Model:                            OLS   Adj. R-squared:                  0.813\n",
       "Method:                 Least Squares   F-statistic:                     12.09\n",
       "Date:                Sun, 29 Nov 2020   Prob (F-statistic):           3.52e-05\n",
       "Time:                        11:37:04   Log-Likelihood:                -55.997\n",
       "No. Observations:                  24   AIC:                             132.0\n",
       "Df Residuals:                      14   BIC:                             143.8\n",
       "Df Model:                           9                                         \n",
       "Covariance Type:            nonrobust                                         \n",
       "==============================================================================\n",
       "                 coef    std err          t      P>|t|      [0.025      0.975]\n",
       "------------------------------------------------------------------------------\n",
       "const         74.0351     63.553      1.165      0.264     -62.272     210.342\n",
       "GF             0.2149      0.045      4.776      0.000       0.118       0.311\n",
       "GA            -0.1055      0.065     -1.624      0.127      -0.245       0.034\n",
       "PPGF          -0.0299      0.181     -0.165      0.871      -0.418       0.358\n",
       "PCTG          -0.0490      0.688     -0.071      0.944      -1.524       1.426\n",
       "PEN            0.0033      0.006      0.517      0.613      -0.010       0.017\n",
       "PPGA          -0.2770      0.218     -1.270      0.225      -0.745       0.191\n",
       "PKPCT         -0.6235      0.706     -0.883      0.392      -2.139       0.892\n",
       "SHGF          -0.0368      0.242     -0.152      0.881      -0.556       0.483\n",
       "FG             0.2281      0.273      0.836      0.417      -0.357       0.813\n",
       "==============================================================================\n",
       "Omnibus:                        1.189   Durbin-Watson:                   2.001\n",
       "Prob(Omnibus):                  0.552   Jarque-Bera (JB):                1.108\n",
       "Skew:                           0.397   Prob(JB):                        0.575\n",
       "Kurtosis:                       2.309   Cond. No.                     1.14e+05\n",
       "==============================================================================\n",
       "\n",
       "Warnings:\n",
       "[1] Standard Errors assume that the covariance matrix of the errors is correctly specified.\n",
       "[2] The condition number is large, 1.14e+05. This might indicate that there are\n",
       "strong multicollinearity or other numerical problems.\n",
       "\"\"\""
      ]
     },
     "execution_count": 815,
     "metadata": {},
     "output_type": "execute_result"
    }
   ],
   "source": [
    "#add the beta0, w/add_constant. This simply adds a column of ones\n",
    "X_const = sm.add_constant(X)\n",
    "est = sm.OLS(Y, X_const).fit()\n",
    "est.summary()"
   ]
  },
  {
   "cell_type": "code",
   "execution_count": 816,
   "metadata": {},
   "outputs": [
    {
     "data": {
      "text/html": [
       "<table class=\"simpletable\">\n",
       "<caption>OLS Regression Results</caption>\n",
       "<tr>\n",
       "  <th>Dep. Variable:</th>            <td>W</td>        <th>  R-squared (uncentered):</th>      <td>   0.999</td>\n",
       "</tr>\n",
       "<tr>\n",
       "  <th>Model:</th>                   <td>OLS</td>       <th>  Adj. R-squared (uncentered):</th> <td>   0.999</td>\n",
       "</tr>\n",
       "<tr>\n",
       "  <th>Method:</th>             <td>Least Squares</td>  <th>  F-statistic:       </th>          <td>   3181.</td>\n",
       "</tr>\n",
       "<tr>\n",
       "  <th>Date:</th>             <td>Sun, 29 Nov 2020</td> <th>  Prob (F-statistic):</th>          <td>6.04e-23</td>\n",
       "</tr>\n",
       "<tr>\n",
       "  <th>Time:</th>                 <td>11:37:04</td>     <th>  Log-Likelihood:    </th>          <td>  25.077</td>\n",
       "</tr>\n",
       "<tr>\n",
       "  <th>No. Observations:</th>      <td>    24</td>      <th>  AIC:               </th>          <td>  -32.15</td>\n",
       "</tr>\n",
       "<tr>\n",
       "  <th>Df Residuals:</th>          <td>    15</td>      <th>  BIC:               </th>          <td>  -21.55</td>\n",
       "</tr>\n",
       "<tr>\n",
       "  <th>Df Model:</th>              <td>     9</td>      <th>                     </th>              <td> </td>   \n",
       "</tr>\n",
       "<tr>\n",
       "  <th>Covariance Type:</th>      <td>nonrobust</td>    <th>                     </th>              <td> </td>   \n",
       "</tr>\n",
       "</table>\n",
       "<table class=\"simpletable\">\n",
       "<tr>\n",
       "    <td></td>       <th>coef</th>     <th>std err</th>      <th>t</th>      <th>P>|t|</th>  <th>[0.025</th>    <th>0.975]</th>  \n",
       "</tr>\n",
       "<tr>\n",
       "  <th>GF</th>    <td>    0.0066</td> <td>    0.001</td> <td>    4.639</td> <td> 0.000</td> <td>    0.004</td> <td>    0.010</td>\n",
       "</tr>\n",
       "<tr>\n",
       "  <th>GA</th>    <td>   -0.0022</td> <td>    0.002</td> <td>   -1.024</td> <td> 0.322</td> <td>   -0.007</td> <td>    0.002</td>\n",
       "</tr>\n",
       "<tr>\n",
       "  <th>PPGF</th>  <td>    0.0007</td> <td>    0.006</td> <td>    0.110</td> <td> 0.914</td> <td>   -0.012</td> <td>    0.013</td>\n",
       "</tr>\n",
       "<tr>\n",
       "  <th>PCTG</th>  <td>   -0.0187</td> <td>    0.022</td> <td>   -0.853</td> <td> 0.407</td> <td>   -0.065</td> <td>    0.028</td>\n",
       "</tr>\n",
       "<tr>\n",
       "  <th>PEN</th>   <td>   -0.0001</td> <td>    0.000</td> <td>   -0.765</td> <td> 0.456</td> <td>   -0.001</td> <td>    0.000</td>\n",
       "</tr>\n",
       "<tr>\n",
       "  <th>PPGA</th>  <td>    0.0028</td> <td>    0.005</td> <td>    0.560</td> <td> 0.583</td> <td>   -0.008</td> <td>    0.013</td>\n",
       "</tr>\n",
       "<tr>\n",
       "  <th>PKPCT</th> <td>    0.0313</td> <td>    0.007</td> <td>    4.450</td> <td> 0.000</td> <td>    0.016</td> <td>    0.046</td>\n",
       "</tr>\n",
       "<tr>\n",
       "  <th>SHGF</th>  <td>   -0.0027</td> <td>    0.008</td> <td>   -0.336</td> <td> 0.742</td> <td>   -0.020</td> <td>    0.014</td>\n",
       "</tr>\n",
       "<tr>\n",
       "  <th>FG</th>    <td>    0.0103</td> <td>    0.009</td> <td>    1.165</td> <td> 0.262</td> <td>   -0.009</td> <td>    0.029</td>\n",
       "</tr>\n",
       "</table>\n",
       "<table class=\"simpletable\">\n",
       "<tr>\n",
       "  <th>Omnibus:</th>       <td> 1.345</td> <th>  Durbin-Watson:     </th> <td>   1.617</td>\n",
       "</tr>\n",
       "<tr>\n",
       "  <th>Prob(Omnibus):</th> <td> 0.510</td> <th>  Jarque-Bera (JB):  </th> <td>   0.933</td>\n",
       "</tr>\n",
       "<tr>\n",
       "  <th>Skew:</th>          <td> 0.475</td> <th>  Prob(JB):          </th> <td>   0.627</td>\n",
       "</tr>\n",
       "<tr>\n",
       "  <th>Kurtosis:</th>      <td> 2.822</td> <th>  Cond. No.          </th> <td>1.23e+03</td>\n",
       "</tr>\n",
       "</table><br/><br/>Warnings:<br/>[1] Standard Errors assume that the covariance matrix of the errors is correctly specified.<br/>[2] The condition number is large, 1.23e+03. This might indicate that there are<br/>strong multicollinearity or other numerical problems."
      ],
      "text/plain": [
       "<class 'statsmodels.iolib.summary.Summary'>\n",
       "\"\"\"\n",
       "                                 OLS Regression Results                                \n",
       "=======================================================================================\n",
       "Dep. Variable:                      W   R-squared (uncentered):                   0.999\n",
       "Model:                            OLS   Adj. R-squared (uncentered):              0.999\n",
       "Method:                 Least Squares   F-statistic:                              3181.\n",
       "Date:                Sun, 29 Nov 2020   Prob (F-statistic):                    6.04e-23\n",
       "Time:                        11:37:04   Log-Likelihood:                          25.077\n",
       "No. Observations:                  24   AIC:                                     -32.15\n",
       "Df Residuals:                      15   BIC:                                     -21.55\n",
       "Df Model:                           9                                                  \n",
       "Covariance Type:            nonrobust                                                  \n",
       "==============================================================================\n",
       "                 coef    std err          t      P>|t|      [0.025      0.975]\n",
       "------------------------------------------------------------------------------\n",
       "GF             0.0066      0.001      4.639      0.000       0.004       0.010\n",
       "GA            -0.0022      0.002     -1.024      0.322      -0.007       0.002\n",
       "PPGF           0.0007      0.006      0.110      0.914      -0.012       0.013\n",
       "PCTG          -0.0187      0.022     -0.853      0.407      -0.065       0.028\n",
       "PEN           -0.0001      0.000     -0.765      0.456      -0.001       0.000\n",
       "PPGA           0.0028      0.005      0.560      0.583      -0.008       0.013\n",
       "PKPCT          0.0313      0.007      4.450      0.000       0.016       0.046\n",
       "SHGF          -0.0027      0.008     -0.336      0.742      -0.020       0.014\n",
       "FG             0.0103      0.009      1.165      0.262      -0.009       0.029\n",
       "==============================================================================\n",
       "Omnibus:                        1.345   Durbin-Watson:                   1.617\n",
       "Prob(Omnibus):                  0.510   Jarque-Bera (JB):                0.933\n",
       "Skew:                           0.475   Prob(JB):                        0.627\n",
       "Kurtosis:                       2.822   Cond. No.                     1.23e+03\n",
       "==============================================================================\n",
       "\n",
       "Warnings:\n",
       "[1] Standard Errors assume that the covariance matrix of the errors is correctly specified.\n",
       "[2] The condition number is large, 1.23e+03. This might indicate that there are\n",
       "strong multicollinearity or other numerical problems.\n",
       "\"\"\""
      ]
     },
     "execution_count": 816,
     "metadata": {},
     "output_type": "execute_result"
    }
   ],
   "source": [
    "#Attempt running with logarithmic as it looked like from the probability plot we may have gotten a better normal fit. \n",
    "#THis being a needed assumption...\n",
    "estLog = sm.OLS(np.log(Y), X).fit()\n",
    "estLog.summary()"
   ]
  },
  {
   "cell_type": "markdown",
   "metadata": {},
   "source": [
    "THe logarithmic approach did not produce a better number. I'll be using the non-transformed dependent variable from here on out."
   ]
  },
  {
   "cell_type": "code",
   "execution_count": 817,
   "metadata": {},
   "outputs": [
    {
     "name": "stdout",
     "output_type": "stream",
     "text": [
      "PREDICTIONS 28    45.868772\n",
      "24    50.640075\n",
      "12    42.945589\n",
      "0     40.065760\n",
      "4     43.183470\n",
      "16    45.919492\n",
      "5     40.660117\n",
      "13    34.456590\n",
      "11    38.169380\n",
      "22    34.506716\n",
      "1     36.124156\n",
      "2     56.127608\n",
      "25    39.100955\n",
      "3     44.177082\n",
      "21    45.812873\n",
      "26    26.035922\n",
      "18    27.255000\n",
      "29    44.919257\n",
      "20    37.781577\n",
      "7     50.046728\n",
      "10    51.374528\n",
      "14    43.157860\n",
      "19    39.878036\n",
      "6     43.792458\n",
      "dtype: float64\n"
     ]
    }
   ],
   "source": [
    "#get prediction values\n",
    "predictions = est.predict(X_const)\n",
    "print('PREDICTIONS', predictions)"
   ]
  },
  {
   "cell_type": "code",
   "execution_count": 818,
   "metadata": {},
   "outputs": [
    {
     "name": "stdout",
     "output_type": "stream",
     "text": [
      "Parameters: const    74.035145\n",
      "GF        0.214942\n",
      "GA       -0.105461\n",
      "PPGF     -0.029948\n",
      "PCTG     -0.049042\n",
      "PEN       0.003322\n",
      "PPGA     -0.277000\n",
      "PKPCT    -0.623471\n",
      "SHGF     -0.036817\n",
      "FG        0.228095\n",
      "dtype: float64\n",
      "Standard Errors: const    63.552835\n",
      "GF        0.045003\n",
      "GA        0.064951\n",
      "PPGF      0.181068\n",
      "PCTG      0.687819\n",
      "PEN       0.006425\n",
      "PPGA      0.218081\n",
      "PKPCT     0.706469\n",
      "SHGF      0.242207\n",
      "FG        0.272875\n",
      "dtype: float64\n",
      "Predicted values: [45.86877166 50.64007465 42.9455887  40.0657602  43.18347    45.91949185\n",
      " 40.66011656 34.45658992 38.16938003 34.5067158  36.12415618 56.12760751\n",
      " 39.10095532 44.17708198 45.81287261 26.035922   27.25499961 44.91925742\n",
      " 37.78157714 50.04672823 51.3745285  43.15785964 39.87803611 43.79245838]\n"
     ]
    }
   ],
   "source": [
    "print('Parameters:', est.params)\n",
    "print('Standard Errors:', est.bse)\n",
    "print('Predicted values:', est.predict())"
   ]
  },
  {
   "cell_type": "markdown",
   "metadata": {},
   "source": [
    "# 3. Model Adequacy Checking"
   ]
  },
  {
   "cell_type": "markdown",
   "metadata": {},
   "source": [
    "Print out the results from the t-tests on each parameter."
   ]
  },
  {
   "cell_type": "code",
   "execution_count": 819,
   "metadata": {},
   "outputs": [
    {
     "name": "stdout",
     "output_type": "stream",
     "text": [
      "Paramter coefficients: \n",
      " const    74.035145\n",
      "GF        0.214942\n",
      "GA       -0.105461\n",
      "PPGF     -0.029948\n",
      "PCTG     -0.049042\n",
      "PEN       0.003322\n",
      "PPGA     -0.277000\n",
      "PKPCT    -0.623471\n",
      "SHGF     -0.036817\n",
      "FG        0.228095\n",
      "dtype: float64\n",
      "\n",
      "Associated P-Values (from t-test):\n",
      " const    0.263510\n",
      "GF       0.000296\n",
      "GA       0.126733\n",
      "PPGF     0.870995\n",
      "PCTG     0.944167\n",
      "PEN      0.613210\n",
      "PPGA     0.224729\n",
      "PKPCT    0.392398\n",
      "SHGF     0.881350\n",
      "FG       0.417252\n",
      "dtype: float64\n"
     ]
    }
   ],
   "source": [
    "print(\"Paramter coefficients: \\n\", est.params)\n",
    "print(\"\\nAssociated P-Values (from t-test):\\n\", est.pvalues)"
   ]
  },
  {
   "cell_type": "markdown",
   "metadata": {},
   "source": [
    "From the above, it looks like the only coefficient that we feel confident about is the goals for data. From the coefficients that were found it looks like we could remove more columns from our data frame. This is because the coefficients are near zero, (while the constant term is not even close to zero), meaning they don't contribute that much to the data. So I will go ahead and trim out, PEN, PCTG and SHGF as well. Check with correlation values below."
   ]
  },
  {
   "cell_type": "code",
   "execution_count": 820,
   "metadata": {},
   "outputs": [
    {
     "name": "stdout",
     "output_type": "stream",
     "text": [
      "W        1.000000\n",
      "PTS      0.984472\n",
      "GF       0.747507\n",
      "FG       0.689348\n",
      "PCTG     0.499035\n",
      "PPGF     0.473705\n",
      "PKPCT    0.261678\n",
      "SHGF     0.201712\n",
      "PEN     -0.345162\n",
      "OTL     -0.360044\n",
      "PPGA    -0.397972\n",
      "GA      -0.681475\n",
      "L       -0.933858\n",
      "Name: W, dtype: float64\n"
     ]
    }
   ],
   "source": [
    "print(corr.W)"
   ]
  },
  {
   "cell_type": "code",
   "execution_count": 821,
   "metadata": {},
   "outputs": [
    {
     "data": {
      "text/html": [
       "<table class=\"simpletable\">\n",
       "<caption>OLS Regression Results</caption>\n",
       "<tr>\n",
       "  <th>Dep. Variable:</th>            <td>W</td>        <th>  R-squared:         </th> <td>   0.880</td>\n",
       "</tr>\n",
       "<tr>\n",
       "  <th>Model:</th>                   <td>OLS</td>       <th>  Adj. R-squared:    </th> <td>   0.846</td>\n",
       "</tr>\n",
       "<tr>\n",
       "  <th>Method:</th>             <td>Least Squares</td>  <th>  F-statistic:       </th> <td>   26.30</td>\n",
       "</tr>\n",
       "<tr>\n",
       "  <th>Date:</th>             <td>Sun, 29 Nov 2020</td> <th>  Prob (F-statistic):</th> <td>1.11e-07</td>\n",
       "</tr>\n",
       "<tr>\n",
       "  <th>Time:</th>                 <td>11:37:04</td>     <th>  Log-Likelihood:    </th> <td> -56.654</td>\n",
       "</tr>\n",
       "<tr>\n",
       "  <th>No. Observations:</th>      <td>    24</td>      <th>  AIC:               </th> <td>   125.3</td>\n",
       "</tr>\n",
       "<tr>\n",
       "  <th>Df Residuals:</th>          <td>    18</td>      <th>  BIC:               </th> <td>   132.4</td>\n",
       "</tr>\n",
       "<tr>\n",
       "  <th>Df Model:</th>              <td>     5</td>      <th>                     </th>     <td> </td>   \n",
       "</tr>\n",
       "<tr>\n",
       "  <th>Covariance Type:</th>      <td>nonrobust</td>    <th>                     </th>     <td> </td>   \n",
       "</tr>\n",
       "</table>\n",
       "<table class=\"simpletable\">\n",
       "<tr>\n",
       "    <td></td>       <th>coef</th>     <th>std err</th>      <th>t</th>      <th>P>|t|</th>  <th>[0.025</th>    <th>0.975]</th>  \n",
       "</tr>\n",
       "<tr>\n",
       "  <th>const</th> <td>   65.1566</td> <td>   43.799</td> <td>    1.488</td> <td> 0.154</td> <td>  -26.862</td> <td>  157.176</td>\n",
       "</tr>\n",
       "<tr>\n",
       "  <th>GF</th>    <td>    0.1959</td> <td>    0.032</td> <td>    6.043</td> <td> 0.000</td> <td>    0.128</td> <td>    0.264</td>\n",
       "</tr>\n",
       "<tr>\n",
       "  <th>GA</th>    <td>   -0.1114</td> <td>    0.056</td> <td>   -1.985</td> <td> 0.063</td> <td>   -0.229</td> <td>    0.007</td>\n",
       "</tr>\n",
       "<tr>\n",
       "  <th>PPGA</th>  <td>   -0.2176</td> <td>    0.129</td> <td>   -1.684</td> <td> 0.109</td> <td>   -0.489</td> <td>    0.054</td>\n",
       "</tr>\n",
       "<tr>\n",
       "  <th>PKPCT</th> <td>   -0.4662</td> <td>    0.441</td> <td>   -1.057</td> <td> 0.305</td> <td>   -1.393</td> <td>    0.461</td>\n",
       "</tr>\n",
       "<tr>\n",
       "  <th>FG</th>    <td>    0.1948</td> <td>    0.242</td> <td>    0.806</td> <td> 0.431</td> <td>   -0.313</td> <td>    0.703</td>\n",
       "</tr>\n",
       "</table>\n",
       "<table class=\"simpletable\">\n",
       "<tr>\n",
       "  <th>Omnibus:</th>       <td> 1.960</td> <th>  Durbin-Watson:     </th> <td>   1.847</td>\n",
       "</tr>\n",
       "<tr>\n",
       "  <th>Prob(Omnibus):</th> <td> 0.375</td> <th>  Jarque-Bera (JB):  </th> <td>   1.256</td>\n",
       "</tr>\n",
       "<tr>\n",
       "  <th>Skew:</th>          <td> 0.277</td> <th>  Prob(JB):          </th> <td>   0.534</td>\n",
       "</tr>\n",
       "<tr>\n",
       "  <th>Kurtosis:</th>      <td> 2.026</td> <th>  Cond. No.          </th> <td>2.52e+04</td>\n",
       "</tr>\n",
       "</table><br/><br/>Warnings:<br/>[1] Standard Errors assume that the covariance matrix of the errors is correctly specified.<br/>[2] The condition number is large, 2.52e+04. This might indicate that there are<br/>strong multicollinearity or other numerical problems."
      ],
      "text/plain": [
       "<class 'statsmodels.iolib.summary.Summary'>\n",
       "\"\"\"\n",
       "                            OLS Regression Results                            \n",
       "==============================================================================\n",
       "Dep. Variable:                      W   R-squared:                       0.880\n",
       "Model:                            OLS   Adj. R-squared:                  0.846\n",
       "Method:                 Least Squares   F-statistic:                     26.30\n",
       "Date:                Sun, 29 Nov 2020   Prob (F-statistic):           1.11e-07\n",
       "Time:                        11:37:04   Log-Likelihood:                -56.654\n",
       "No. Observations:                  24   AIC:                             125.3\n",
       "Df Residuals:                      18   BIC:                             132.4\n",
       "Df Model:                           5                                         \n",
       "Covariance Type:            nonrobust                                         \n",
       "==============================================================================\n",
       "                 coef    std err          t      P>|t|      [0.025      0.975]\n",
       "------------------------------------------------------------------------------\n",
       "const         65.1566     43.799      1.488      0.154     -26.862     157.176\n",
       "GF             0.1959      0.032      6.043      0.000       0.128       0.264\n",
       "GA            -0.1114      0.056     -1.985      0.063      -0.229       0.007\n",
       "PPGA          -0.2176      0.129     -1.684      0.109      -0.489       0.054\n",
       "PKPCT         -0.4662      0.441     -1.057      0.305      -1.393       0.461\n",
       "FG             0.1948      0.242      0.806      0.431      -0.313       0.703\n",
       "==============================================================================\n",
       "Omnibus:                        1.960   Durbin-Watson:                   1.847\n",
       "Prob(Omnibus):                  0.375   Jarque-Bera (JB):                1.256\n",
       "Skew:                           0.277   Prob(JB):                        0.534\n",
       "Kurtosis:                       2.026   Cond. No.                     2.52e+04\n",
       "==============================================================================\n",
       "\n",
       "Warnings:\n",
       "[1] Standard Errors assume that the covariance matrix of the errors is correctly specified.\n",
       "[2] The condition number is large, 2.52e+04. This might indicate that there are\n",
       "strong multicollinearity or other numerical problems.\n",
       "\"\"\""
      ]
     },
     "execution_count": 821,
     "metadata": {},
     "output_type": "execute_result"
    }
   ],
   "source": [
    "X_const = X_const.drop(['PEN', 'PCTG', 'SHGF', 'PPGF'], axis=1)\n",
    "est = sm.OLS(Y, X_const).fit()\n",
    "est.summary()"
   ]
  },
  {
   "cell_type": "markdown",
   "metadata": {},
   "source": [
    "Based on the R^2 values and adjusted R^2 values it looks like this model performs slightly better. Let's look closely at the t-tests:"
   ]
  },
  {
   "cell_type": "code",
   "execution_count": 822,
   "metadata": {},
   "outputs": [
    {
     "name": "stdout",
     "output_type": "stream",
     "text": [
      "Paramter coefficients: \n",
      " const    65.156596\n",
      "GF        0.195886\n",
      "GA       -0.111392\n",
      "PPGA     -0.217649\n",
      "PKPCT    -0.466222\n",
      "FG        0.194831\n",
      "dtype: float64\n",
      "\n",
      "Associated P-Values (from t-test):\n",
      " const    0.154161\n",
      "GF       0.000010\n",
      "GA       0.062608\n",
      "PPGA     0.109477\n",
      "PKPCT    0.304664\n",
      "FG       0.430804\n",
      "dtype: float64\n"
     ]
    }
   ],
   "source": [
    "print(\"Paramter coefficients: \\n\", est.params)\n",
    "print(\"\\nAssociated P-Values (from t-test):\\n\", est.pvalues)"
   ]
  },
  {
   "cell_type": "markdown",
   "metadata": {},
   "source": [
    "It looks like some of the P-values associated with the t-test (of H0: Beta_x = 0) still are coming up fairly large indicating we may not need those coefficients. While that may be true based on our PCA earlier any more 'trimming' of the data could result in a loss of the variability of the data. For example, if we just did a regression of Y=Wins and X = Goals For (GF) based on these results the regression would be very accurate, however we'd be losing a lot of the data variability and losing other factors that could impact total wins. For instance, if a team does not have many power play goals for, it will be hard to understand the impact it will have on the overall win count. But that does not mean it won't have an impact on total win count."
   ]
  },
  {
   "cell_type": "code",
   "execution_count": 823,
   "metadata": {},
   "outputs": [
    {
     "name": "stdout",
     "output_type": "stream",
     "text": [
      "PREDICTIONS 28    45.219194\n",
      "24    51.182789\n",
      "12    42.901274\n",
      "0     39.843567\n",
      "4     44.040929\n",
      "16    45.893552\n",
      "5     39.628112\n",
      "13    35.005357\n",
      "11    37.563851\n",
      "22    33.984578\n",
      "1     36.062178\n",
      "2     55.868624\n",
      "25    39.462781\n",
      "3     44.211255\n",
      "21    45.342831\n",
      "26    26.628764\n",
      "18    27.536509\n",
      "29    45.786187\n",
      "20    38.184368\n",
      "7     49.676717\n",
      "10    52.037523\n",
      "14    44.053967\n",
      "19    39.261346\n",
      "6     42.623747\n",
      "dtype: float64\n"
     ]
    }
   ],
   "source": [
    "#Re-do predictions\n",
    "predictions = est.predict(X_const)\n",
    "print('PREDICTIONS', predictions)\n"
   ]
  },
  {
   "cell_type": "markdown",
   "metadata": {},
   "source": [
    "Check on residuals of training data"
   ]
  },
  {
   "cell_type": "code",
   "execution_count": 824,
   "metadata": {},
   "outputs": [
    {
     "data": {
      "text/plain": [
       "28    45.219194\n",
       "24    51.182789\n",
       "12    42.901274\n",
       "0     39.843567\n",
       "4     44.040929\n",
       "16    45.893552\n",
       "5     39.628112\n",
       "13    35.005357\n",
       "11    37.563851\n",
       "22    33.984578\n",
       "1     36.062178\n",
       "2     55.868624\n",
       "25    39.462781\n",
       "3     44.211255\n",
       "21    45.342831\n",
       "26    26.628764\n",
       "18    27.536509\n",
       "29    45.786187\n",
       "20    38.184368\n",
       "7     49.676717\n",
       "10    52.037523\n",
       "14    44.053967\n",
       "19    39.261346\n",
       "6     42.623747\n",
       "dtype: float64"
      ]
     },
     "execution_count": 824,
     "metadata": {},
     "output_type": "execute_result"
    }
   ],
   "source": [
    "residuals = Y - predictions\n",
    "predictions"
   ]
  },
  {
   "cell_type": "code",
   "execution_count": 825,
   "metadata": {},
   "outputs": [
    {
     "data": {
      "text/plain": [
       "[<matplotlib.lines.Line2D at 0x184039e0d08>,\n",
       " <matplotlib.lines.Line2D at 0x184039ee748>,\n",
       " <matplotlib.lines.Line2D at 0x184039ee5c8>,\n",
       " <matplotlib.lines.Line2D at 0x184039ee908>,\n",
       " <matplotlib.lines.Line2D at 0x184039eeb08>,\n",
       " <matplotlib.lines.Line2D at 0x184039eefc8>]"
      ]
     },
     "execution_count": 825,
     "metadata": {},
     "output_type": "execute_result"
    },
    {
     "data": {
      "text/plain": [
       "Text(0.5, 1.0, 'Residual Plot')"
      ]
     },
     "execution_count": 825,
     "metadata": {},
     "output_type": "execute_result"
    },
    {
     "data": {
      "text/plain": [
       "Text(0.5, 0, 'Independent Variables')"
      ]
     },
     "execution_count": 825,
     "metadata": {},
     "output_type": "execute_result"
    },
    {
     "data": {
      "text/plain": [
       "Text(0, 0.5, 'Residual')"
      ]
     },
     "execution_count": 825,
     "metadata": {},
     "output_type": "execute_result"
    },
    {
     "data": {
      "image/png": "[encoded data removed]",
      "text/plain": [
       "<Figure size 432x288 with 1 Axes>"
      ]
     },
     "metadata": {
      "needs_background": "light"
     },
     "output_type": "display_data"
    }
   ],
   "source": [
    "plt.plot(X_const,residuals, 'o', color='darkblue')\n",
    "plt.title(\"Residual Plot\")\n",
    "plt.xlabel(\"Independent Variables\")\n",
    "plt.ylabel(\"Residual\")"
   ]
  },
  {
   "cell_type": "markdown",
   "metadata": {},
   "source": [
    "The residual plot here is a little misleading as it has all the X variables sharing the same axis. However, the thing to pay attention to is the even scattering of the residuals b/t about +4 and -4 while being centered around 0. This indicates that our model has a fairly good fit, with a normal amount of noise. Verifying two of the key assumptions of the linear regression process (constant variation of the error and normal distribution of error). In the plot below we see a similar variation when looking at one variable, goals for (GF)."
   ]
  },
  {
   "cell_type": "code",
   "execution_count": 826,
   "metadata": {},
   "outputs": [
    {
     "data": {
      "text/plain": [
       "[<matplotlib.lines.Line2D at 0x18403a3fa88>]"
      ]
     },
     "execution_count": 826,
     "metadata": {},
     "output_type": "execute_result"
    },
    {
     "data": {
      "text/plain": [
       "Text(0.5, 1.0, 'Residual Plot')"
      ]
     },
     "execution_count": 826,
     "metadata": {},
     "output_type": "execute_result"
    },
    {
     "data": {
      "text/plain": [
       "Text(0.5, 0, 'Goals For (IV)')"
      ]
     },
     "execution_count": 826,
     "metadata": {},
     "output_type": "execute_result"
    },
    {
     "data": {
      "text/plain": [
       "Text(0, 0.5, 'Residual')"
      ]
     },
     "execution_count": 826,
     "metadata": {},
     "output_type": "execute_result"
    },
    {
     "data": {
      "image/png": "[encoded data removed]",
      "text/plain": [
       "<Figure size 432x288 with 1 Axes>"
      ]
     },
     "metadata": {
      "needs_background": "light"
     },
     "output_type": "display_data"
    }
   ],
   "source": [
    "#Plot single independent variable to have closer look at the residuals:\n",
    "plt.plot(X_const.GF,residuals, 'o', color='darkblue')\n",
    "plt.title(\"Residual Plot\")\n",
    "plt.xlabel(\"Goals For (IV)\")\n",
    "plt.ylabel(\"Residual\")"
   ]
  },
  {
   "cell_type": "code",
   "execution_count": 827,
   "metadata": {},
   "outputs": [
    {
     "data": {
      "text/plain": [
       "[<matplotlib.lines.Line2D at 0x18403a9de08>]"
      ]
     },
     "execution_count": 827,
     "metadata": {},
     "output_type": "execute_result"
    },
    {
     "data": {
      "text/plain": [
       "Text(0.5, 1.0, 'Residual Plot')"
      ]
     },
     "execution_count": 827,
     "metadata": {},
     "output_type": "execute_result"
    },
    {
     "data": {
      "text/plain": [
       "Text(0.5, 0, 'Predicted response')"
      ]
     },
     "execution_count": 827,
     "metadata": {},
     "output_type": "execute_result"
    },
    {
     "data": {
      "text/plain": [
       "Text(0, 0.5, 'Residual')"
      ]
     },
     "execution_count": 827,
     "metadata": {},
     "output_type": "execute_result"
    },
    {
     "data": {
      "image/png": "[encoded data removed]",
      "text/plain": [
       "<Figure size 432x288 with 1 Axes>"
      ]
     },
     "metadata": {
      "needs_background": "light"
     },
     "output_type": "display_data"
    }
   ],
   "source": [
    "#Residuals vs the predictions:\n",
    "#Y - actual wins\n",
    "#predictions - predicted wins\n",
    "residuals = Y - predictions\n",
    "plt.plot(predictions,residuals, 'o', color='darkblue')\n",
    "plt.title(\"Residual Plot\")\n",
    "plt.xlabel(\"Predicted response\")\n",
    "plt.ylabel(\"Residual\")"
   ]
  },
  {
   "cell_type": "code",
   "execution_count": 828,
   "metadata": {},
   "outputs": [
    {
     "data": {
      "text/plain": [
       "((array([-1.90380091, -1.48287381, -1.22601535, -1.03156092, -0.8698858 ,\n",
       "         -0.7282709 , -0.59996024, -0.48085763, -0.36822879, -0.26009875,\n",
       "         -0.154935  , -0.05146182,  0.05146182,  0.154935  ,  0.26009875,\n",
       "          0.36822879,  0.48085763,  0.59996024,  0.7282709 ,  0.8698858 ,\n",
       "          1.03156092,  1.22601535,  1.48287381,  1.90380091]),\n",
       "  array([-4.05396733, -3.67671681, -3.21125453, -2.8686242 , -2.62876379,\n",
       "         -2.18436798, -1.90127362, -1.53650928, -1.34283145, -1.06217766,\n",
       "         -1.03752319, -1.00535672, -0.21919406,  0.43614913,  0.95907086,\n",
       "          1.37188792,  1.53721941,  1.8172111 ,  2.01542202,  2.15643294,\n",
       "          3.37625294,  3.73865377,  4.2138128 ,  5.10644772])),\n",
       " (2.7063775780741186, -1.2968066247144428e-13, 0.9872421439318988))"
      ]
     },
     "execution_count": 828,
     "metadata": {},
     "output_type": "execute_result"
    },
    {
     "data": {
      "image/png": "[encoded data removed]",
      "text/plain": [
       "<Figure size 432x288 with 1 Axes>"
      ]
     },
     "metadata": {
      "needs_background": "light"
     },
     "output_type": "display_data"
    }
   ],
   "source": [
    "#Normal probability plot of the residuals:\n",
    "stats.probplot(residuals, plot=plt)\n",
    "plt.show()"
   ]
  },
  {
   "cell_type": "markdown",
   "metadata": {},
   "source": [
    "The above tells us that the residuals follow a normal distribution. Again, this verifies that the error terms are normally distributive. This is a good sign for verifying the model."
   ]
  },
  {
   "cell_type": "code",
   "execution_count": 829,
   "metadata": {},
   "outputs": [
    {
     "data": {
      "text/plain": [
       "[<matplotlib.lines.Line2D at 0x18403b6b4c8>]"
      ]
     },
     "execution_count": 829,
     "metadata": {},
     "output_type": "execute_result"
    },
    {
     "data": {
      "text/plain": [
       "[<matplotlib.lines.Line2D at 0x18403b8d988>]"
      ]
     },
     "execution_count": 829,
     "metadata": {},
     "output_type": "execute_result"
    },
    {
     "data": {
      "text/plain": [
       "Text(0.5, 1.0, 'Actuals vs. Regression line')"
      ]
     },
     "execution_count": 829,
     "metadata": {},
     "output_type": "execute_result"
    },
    {
     "data": {
      "text/plain": [
       "Text(0.5, 0, 'Goals For')"
      ]
     },
     "execution_count": 829,
     "metadata": {},
     "output_type": "execute_result"
    },
    {
     "data": {
      "text/plain": [
       "Text(0, 0.5, 'Total wins')"
      ]
     },
     "execution_count": 829,
     "metadata": {},
     "output_type": "execute_result"
    },
    {
     "data": {
      "image/png": "[encoded data removed]",
      "text/plain": [
       "<Figure size 432x288 with 1 Axes>"
      ]
     },
     "metadata": {
      "needs_background": "light"
     },
     "output_type": "display_data"
    }
   ],
   "source": [
    "#Plot actual and predicted value for GF vs. Wins\n",
    "plt.plot(X_const.GF, Y, 'o', color='black') #actual values\n",
    "plt.plot(X_const.GF, predictions, 'o', color='blue')  #predicted\n",
    "plt.title(\"Actuals vs. Regression line\")\n",
    "plt.xlabel('Goals For')\n",
    "plt.ylabel('Total wins')\n"
   ]
  },
  {
   "cell_type": "code",
   "execution_count": 830,
   "metadata": {},
   "outputs": [
    {
     "data": {
      "text/plain": [
       "[<matplotlib.lines.Line2D at 0x18403bd0c88>]"
      ]
     },
     "execution_count": 830,
     "metadata": {},
     "output_type": "execute_result"
    },
    {
     "data": {
      "text/plain": [
       "[<matplotlib.lines.Line2D at 0x18403bfaa48>]"
      ]
     },
     "execution_count": 830,
     "metadata": {},
     "output_type": "execute_result"
    },
    {
     "data": {
      "text/plain": [
       "Text(0.5, 1.0, 'Actuals vs. Regression line')"
      ]
     },
     "execution_count": 830,
     "metadata": {},
     "output_type": "execute_result"
    },
    {
     "data": {
      "text/plain": [
       "Text(0.5, 0, 'PowerPlay Goals Against')"
      ]
     },
     "execution_count": 830,
     "metadata": {},
     "output_type": "execute_result"
    },
    {
     "data": {
      "text/plain": [
       "Text(0, 0.5, 'Total wins')"
      ]
     },
     "execution_count": 830,
     "metadata": {},
     "output_type": "execute_result"
    },
    {
     "data": {
      "image/png": "[encoded data removed]",
      "text/plain": [
       "<Figure size 432x288 with 1 Axes>"
      ]
     },
     "metadata": {
      "needs_background": "light"
     },
     "output_type": "display_data"
    }
   ],
   "source": [
    "#Plot actual and predicted value for PPGA vs. Wins\n",
    "plt.plot(X_const.PPGA, Y, 'o', color='black') #actual values\n",
    "plt.plot(X_const.PPGA, predictions, 'o', color='blue')  #predicted\n",
    "plt.title(\"Actuals vs. Regression line\")\n",
    "plt.xlabel('PowerPlay Goals Against')\n",
    "plt.ylabel('Total wins')"
   ]
  },
  {
   "cell_type": "markdown",
   "metadata": {},
   "source": [
    "We get a fairly good result for predicted vs. actual. However, the real test will come within the test section."
   ]
  },
  {
   "cell_type": "markdown",
   "metadata": {},
   "source": [
    "Based on the t-test and associated P-values as well as the preliminary residuals/predictions vs. actual values. So I think this model will be fairly accurate, but let's check within the testing section."
   ]
  },
  {
   "cell_type": "markdown",
   "metadata": {},
   "source": [
    "# 6.Testing (Predicting also)"
   ]
  },
  {
   "cell_type": "code",
   "execution_count": 831,
   "metadata": {},
   "outputs": [
    {
     "data": {
      "text/html": [
       "<div>\n",
       "<style scoped>\n",
       "    .dataframe tbody tr th:only-of-type {\n",
       "        vertical-align: middle;\n",
       "    }\n",
       "\n",
       "    .dataframe tbody tr th {\n",
       "        vertical-align: top;\n",
       "    }\n",
       "\n",
       "    .dataframe thead th {\n",
       "        text-align: right;\n",
       "    }\n",
       "</style>\n",
       "<table border=\"1\" class=\"dataframe\">\n",
       "  <thead>\n",
       "    <tr style=\"text-align: right;\">\n",
       "      <th></th>\n",
       "      <th>Team</th>\n",
       "      <th>W</th>\n",
       "      <th>L</th>\n",
       "      <th>OTL</th>\n",
       "      <th>PTS</th>\n",
       "      <th>GF</th>\n",
       "      <th>GA</th>\n",
       "      <th>PPGF</th>\n",
       "      <th>PCTG</th>\n",
       "      <th>PEN</th>\n",
       "      <th>PPGA</th>\n",
       "      <th>PKPCT</th>\n",
       "      <th>SHGF</th>\n",
       "      <th>FG</th>\n",
       "    </tr>\n",
       "  </thead>\n",
       "  <tbody>\n",
       "    <tr>\n",
       "      <th>27</th>\n",
       "      <td>Toronto</td>\n",
       "      <td>34</td>\n",
       "      <td>35</td>\n",
       "      <td>13</td>\n",
       "      <td>81</td>\n",
       "      <td>244</td>\n",
       "      <td>286</td>\n",
       "      <td>62</td>\n",
       "      <td>18.8</td>\n",
       "      <td>1113</td>\n",
       "      <td>78</td>\n",
       "      <td>74.7</td>\n",
       "      <td>6</td>\n",
       "      <td>40</td>\n",
       "    </tr>\n",
       "    <tr>\n",
       "      <th>15</th>\n",
       "      <td>Montreal</td>\n",
       "      <td>41</td>\n",
       "      <td>30</td>\n",
       "      <td>11</td>\n",
       "      <td>93</td>\n",
       "      <td>242</td>\n",
       "      <td>240</td>\n",
       "      <td>72</td>\n",
       "      <td>19.2</td>\n",
       "      <td>1223</td>\n",
       "      <td>65</td>\n",
       "      <td>82.4</td>\n",
       "      <td>10</td>\n",
       "      <td>38</td>\n",
       "    </tr>\n",
       "    <tr>\n",
       "      <th>23</th>\n",
       "      <td>Pittsburgh</td>\n",
       "      <td>45</td>\n",
       "      <td>28</td>\n",
       "      <td>9</td>\n",
       "      <td>99</td>\n",
       "      <td>258</td>\n",
       "      <td>233</td>\n",
       "      <td>62</td>\n",
       "      <td>17.2</td>\n",
       "      <td>1106</td>\n",
       "      <td>60</td>\n",
       "      <td>82.7</td>\n",
       "      <td>7</td>\n",
       "      <td>46</td>\n",
       "    </tr>\n",
       "    <tr>\n",
       "      <th>17</th>\n",
       "      <td>Nashville</td>\n",
       "      <td>40</td>\n",
       "      <td>34</td>\n",
       "      <td>8</td>\n",
       "      <td>88</td>\n",
       "      <td>207</td>\n",
       "      <td>228</td>\n",
       "      <td>50</td>\n",
       "      <td>15.7</td>\n",
       "      <td>982</td>\n",
       "      <td>59</td>\n",
       "      <td>82.5</td>\n",
       "      <td>9</td>\n",
       "      <td>41</td>\n",
       "    </tr>\n",
       "    <tr>\n",
       "      <th>8</th>\n",
       "      <td>Colorado</td>\n",
       "      <td>32</td>\n",
       "      <td>45</td>\n",
       "      <td>5</td>\n",
       "      <td>69</td>\n",
       "      <td>190</td>\n",
       "      <td>253</td>\n",
       "      <td>50</td>\n",
       "      <td>15.7</td>\n",
       "      <td>1044</td>\n",
       "      <td>64</td>\n",
       "      <td>79.9</td>\n",
       "      <td>4</td>\n",
       "      <td>31</td>\n",
       "    </tr>\n",
       "  </tbody>\n",
       "</table>\n",
       "</div>"
      ],
      "text/plain": [
       "          Team   W   L  OTL  PTS   GF   GA  PPGF  PCTG   PEN  PPGA  PKPCT  \\\n",
       "27     Toronto  34  35   13   81  244  286    62  18.8  1113    78   74.7   \n",
       "15    Montreal  41  30   11   93  242  240    72  19.2  1223    65   82.4   \n",
       "23  Pittsburgh  45  28    9   99  258  233    62  17.2  1106    60   82.7   \n",
       "17   Nashville  40  34    8   88  207  228    50  15.7   982    59   82.5   \n",
       "8     Colorado  32  45    5   69  190  253    50  15.7  1044    64   79.9   \n",
       "\n",
       "    SHGF  FG  \n",
       "27     6  40  \n",
       "15    10  38  \n",
       "23     7  46  \n",
       "17     9  41  \n",
       "8      4  31  "
      ]
     },
     "execution_count": 831,
     "metadata": {},
     "output_type": "execute_result"
    }
   ],
   "source": [
    "df_test.head()"
   ]
  },
  {
   "cell_type": "markdown",
   "metadata": {},
   "source": [
    "Before anything we need to trim down to what the model has used so we can accurately run the regression on the test data."
   ]
  },
  {
   "cell_type": "code",
   "execution_count": 832,
   "metadata": {},
   "outputs": [
    {
     "data": {
      "text/html": [
       "<div>\n",
       "<style scoped>\n",
       "    .dataframe tbody tr th:only-of-type {\n",
       "        vertical-align: middle;\n",
       "    }\n",
       "\n",
       "    .dataframe tbody tr th {\n",
       "        vertical-align: top;\n",
       "    }\n",
       "\n",
       "    .dataframe thead th {\n",
       "        text-align: right;\n",
       "    }\n",
       "</style>\n",
       "<table border=\"1\" class=\"dataframe\">\n",
       "  <thead>\n",
       "    <tr style=\"text-align: right;\">\n",
       "      <th></th>\n",
       "      <th>const</th>\n",
       "      <th>GF</th>\n",
       "      <th>GA</th>\n",
       "      <th>PPGA</th>\n",
       "      <th>PKPCT</th>\n",
       "      <th>FG</th>\n",
       "    </tr>\n",
       "  </thead>\n",
       "  <tbody>\n",
       "    <tr>\n",
       "      <th>27</th>\n",
       "      <td>1.0</td>\n",
       "      <td>244</td>\n",
       "      <td>286</td>\n",
       "      <td>78</td>\n",
       "      <td>74.7</td>\n",
       "      <td>40</td>\n",
       "    </tr>\n",
       "    <tr>\n",
       "      <th>15</th>\n",
       "      <td>1.0</td>\n",
       "      <td>242</td>\n",
       "      <td>240</td>\n",
       "      <td>65</td>\n",
       "      <td>82.4</td>\n",
       "      <td>38</td>\n",
       "    </tr>\n",
       "    <tr>\n",
       "      <th>23</th>\n",
       "      <td>1.0</td>\n",
       "      <td>258</td>\n",
       "      <td>233</td>\n",
       "      <td>60</td>\n",
       "      <td>82.7</td>\n",
       "      <td>46</td>\n",
       "    </tr>\n",
       "    <tr>\n",
       "      <th>17</th>\n",
       "      <td>1.0</td>\n",
       "      <td>207</td>\n",
       "      <td>228</td>\n",
       "      <td>59</td>\n",
       "      <td>82.5</td>\n",
       "      <td>41</td>\n",
       "    </tr>\n",
       "    <tr>\n",
       "      <th>8</th>\n",
       "      <td>1.0</td>\n",
       "      <td>190</td>\n",
       "      <td>253</td>\n",
       "      <td>64</td>\n",
       "      <td>79.9</td>\n",
       "      <td>31</td>\n",
       "    </tr>\n",
       "  </tbody>\n",
       "</table>\n",
       "</div>"
      ],
      "text/plain": [
       "    const   GF   GA  PPGA  PKPCT  FG\n",
       "27    1.0  244  286    78   74.7  40\n",
       "15    1.0  242  240    65   82.4  38\n",
       "23    1.0  258  233    60   82.7  46\n",
       "17    1.0  207  228    59   82.5  41\n",
       "8     1.0  190  253    64   79.9  31"
      ]
     },
     "execution_count": 832,
     "metadata": {},
     "output_type": "execute_result"
    }
   ],
   "source": [
    "#Drop not needed terms (closely related to wins or not actual data ie. team name)\n",
    "actual_wins = df_test.W\n",
    "df_test_clean = df_test.drop(['W','PTS', 'OTL', 'L','Team'], axis=1)\n",
    "#Drop items deemed not contributing to the data significantly either from PCA or resulting regression t-test.\n",
    "#Some of the columns had already been removed based on correlation and PCA reults\n",
    "#See previous sections\n",
    "df_test_clean = df_test_clean.drop(['PEN', 'PCTG', 'SHGF', 'PPGF'], axis=1)\n",
    "#Need to add constant for regression to work\n",
    "df_test_clean = sm.add_constant(df_test_clean)\n",
    "df_test_clean.head()"
   ]
  },
  {
   "cell_type": "code",
   "execution_count": null,
   "metadata": {},
   "outputs": [],
   "source": []
  },
  {
   "cell_type": "code",
   "execution_count": 833,
   "metadata": {},
   "outputs": [
    {
     "name": "stdout",
     "output_type": "stream",
     "text": [
      "Test Predictions: 27    37.084531\n",
      "15    40.666636\n",
      "23    47.087569\n",
      "17    36.991099\n",
      "8     29.051881\n",
      "9     36.598786\n",
      "dtype: float64\n"
     ]
    }
   ],
   "source": [
    "test_predictions = est.predict(df_test_clean)\n",
    "print(\"Test Predictions:\", test_predictions)\n"
   ]
  },
  {
   "cell_type": "markdown",
   "metadata": {},
   "source": [
    "Residuals"
   ]
  },
  {
   "cell_type": "code",
   "execution_count": 834,
   "metadata": {},
   "outputs": [],
   "source": [
    "test_residuals = actual_wins - test_predictions"
   ]
  },
  {
   "cell_type": "code",
   "execution_count": 835,
   "metadata": {},
   "outputs": [
    {
     "data": {
      "text/plain": [
       "[<matplotlib.lines.Line2D at 0x18403c1ef48>,\n",
       " <matplotlib.lines.Line2D at 0x18403c627c8>,\n",
       " <matplotlib.lines.Line2D at 0x18403c62808>,\n",
       " <matplotlib.lines.Line2D at 0x18403c62c48>,\n",
       " <matplotlib.lines.Line2D at 0x18403c62e48>,\n",
       " <matplotlib.lines.Line2D at 0x18403c68348>]"
      ]
     },
     "execution_count": 835,
     "metadata": {},
     "output_type": "execute_result"
    },
    {
     "data": {
      "text/plain": [
       "Text(0.5, 1.0, 'Residual Plot')"
      ]
     },
     "execution_count": 835,
     "metadata": {},
     "output_type": "execute_result"
    },
    {
     "data": {
      "text/plain": [
       "Text(0.5, 0, 'Independent Variables')"
      ]
     },
     "execution_count": 835,
     "metadata": {},
     "output_type": "execute_result"
    },
    {
     "data": {
      "text/plain": [
       "Text(0, 0.5, 'Residuals')"
      ]
     },
     "execution_count": 835,
     "metadata": {},
     "output_type": "execute_result"
    },
    {
     "data": {
      "image/png": "[encoded data removed]",
      "text/plain": [
       "<Figure size 432x288 with 1 Axes>"
      ]
     },
     "metadata": {
      "needs_background": "light"
     },
     "output_type": "display_data"
    }
   ],
   "source": [
    "plt.plot(df_test_clean, test_residuals, 'o', color='blue')\n",
    "plt.title('Residual Plot')\n",
    "plt.xlabel('Independent Variables')\n",
    "plt.ylabel('Residuals')"
   ]
  },
  {
   "cell_type": "markdown",
   "metadata": {},
   "source": [
    "This is a similar plot seen within the model validation section. It does look like we have approximatley normal error spread and constant variance throughout. Although that is kind of hard to say when our data set is only <10 points. This again, shows multiple plottings just against the different indpendent variables on one axis. For completeness, the residuals against one of the independent variables are shown below."
   ]
  },
  {
   "cell_type": "code",
   "execution_count": 836,
   "metadata": {},
   "outputs": [
    {
     "data": {
      "text/plain": [
       "[<matplotlib.lines.Line2D at 0x18403cb9388>]"
      ]
     },
     "execution_count": 836,
     "metadata": {},
     "output_type": "execute_result"
    },
    {
     "data": {
      "text/plain": [
       "Text(0.5, 1.0, 'Residual Plot')"
      ]
     },
     "execution_count": 836,
     "metadata": {},
     "output_type": "execute_result"
    },
    {
     "data": {
      "text/plain": [
       "Text(0.5, 0, 'Goals For')"
      ]
     },
     "execution_count": 836,
     "metadata": {},
     "output_type": "execute_result"
    },
    {
     "data": {
      "text/plain": [
       "Text(0, 0.5, 'Residuals')"
      ]
     },
     "execution_count": 836,
     "metadata": {},
     "output_type": "execute_result"
    },
    {
     "data": {
      "image/png": "[encoded data removed]",
      "text/plain": [
       "<Figure size 432x288 with 1 Axes>"
      ]
     },
     "metadata": {
      "needs_background": "light"
     },
     "output_type": "display_data"
    }
   ],
   "source": [
    "plt.plot(df_test_clean.GF, test_residuals, 'o', color='black') #actual values\n",
    "plt.title('Residual Plot')\n",
    "plt.xlabel('Goals For')\n",
    "plt.ylabel('Residuals')"
   ]
  },
  {
   "cell_type": "code",
   "execution_count": 837,
   "metadata": {},
   "outputs": [
    {
     "data": {
      "text/plain": [
       "((array([-1.23132171, -0.63003387, -0.19819716,  0.19819716,  0.63003387,\n",
       "          1.23132171]),\n",
       "  array([-3.08453111, -2.08756905, -0.59878599,  0.33336441,  2.94811863,\n",
       "          3.00890147])),\n",
       " (2.7813208982757693, 0.08658305888766371, 0.9709327515737581))"
      ]
     },
     "execution_count": 837,
     "metadata": {},
     "output_type": "execute_result"
    },
    {
     "data": {
      "image/png": "[encoded data removed]",
      "text/plain": [
       "<Figure size 432x288 with 1 Axes>"
      ]
     },
     "metadata": {
      "needs_background": "light"
     },
     "output_type": "display_data"
    }
   ],
   "source": [
    "stats.probplot(test_residuals, plot=plt)\n",
    "plt.show()"
   ]
  },
  {
   "cell_type": "markdown",
   "metadata": {},
   "source": [
    "Based on the few values we have it looks like the error does follow a normal distribution."
   ]
  },
  {
   "cell_type": "code",
   "execution_count": 838,
   "metadata": {},
   "outputs": [
    {
     "data": {
      "text/plain": [
       "[<matplotlib.lines.Line2D at 0x18404d5e288>]"
      ]
     },
     "execution_count": 838,
     "metadata": {},
     "output_type": "execute_result"
    },
    {
     "data": {
      "text/plain": [
       "[<matplotlib.lines.Line2D at 0x18404d55f88>]"
      ]
     },
     "execution_count": 838,
     "metadata": {},
     "output_type": "execute_result"
    },
    {
     "data": {
      "text/plain": [
       "Text(0.5, 1.0, 'GF - Actuals vs. Regression line')"
      ]
     },
     "execution_count": 838,
     "metadata": {},
     "output_type": "execute_result"
    },
    {
     "data": {
      "text/plain": [
       "Text(0.5, 0, 'Goals For')"
      ]
     },
     "execution_count": 838,
     "metadata": {},
     "output_type": "execute_result"
    },
    {
     "data": {
      "text/plain": [
       "Text(0, 0.5, 'Total wins')"
      ]
     },
     "execution_count": 838,
     "metadata": {},
     "output_type": "execute_result"
    },
    {
     "data": {
      "image/png": "[encoded data removed]",
      "text/plain": [
       "<Figure size 432x288 with 1 Axes>"
      ]
     },
     "metadata": {
      "needs_background": "light"
     },
     "output_type": "display_data"
    }
   ],
   "source": [
    "#Plot actual and predicted\n",
    "\n",
    "\n",
    "#Goals For\n",
    "test_predictions = est.predict(df_test_clean.sort_values(by='GF'))\n",
    "plt.plot(df_test_clean.GF, actual_wins, 'o', color='black') #actual values\n",
    "plt.plot(df_test_clean.GF.sort_values(), test_predictions, color='blue')  #predicted\n",
    "plt.title(\"GF - Actuals vs. Regression line\")\n",
    "plt.xlabel('Goals For')\n",
    "plt.ylabel('Total wins')\n"
   ]
  },
  {
   "cell_type": "code",
   "execution_count": 839,
   "metadata": {},
   "outputs": [
    {
     "data": {
      "text/plain": [
       "[<matplotlib.lines.Line2D at 0x18404dcff88>]"
      ]
     },
     "execution_count": 839,
     "metadata": {},
     "output_type": "execute_result"
    },
    {
     "data": {
      "text/plain": [
       "[<matplotlib.lines.Line2D at 0x18404dbaf08>]"
      ]
     },
     "execution_count": 839,
     "metadata": {},
     "output_type": "execute_result"
    },
    {
     "data": {
      "text/plain": [
       "Text(0.5, 1.0, 'GA - Actuals vs. Regression line')"
      ]
     },
     "execution_count": 839,
     "metadata": {},
     "output_type": "execute_result"
    },
    {
     "data": {
      "text/plain": [
       "Text(0.5, 0, 'Goals Against')"
      ]
     },
     "execution_count": 839,
     "metadata": {},
     "output_type": "execute_result"
    },
    {
     "data": {
      "text/plain": [
       "Text(0, 0.5, 'Total wins')"
      ]
     },
     "execution_count": 839,
     "metadata": {},
     "output_type": "execute_result"
    },
    {
     "data": {
      "image/png": "[encoded data removed]",
      "text/plain": [
       "<Figure size 432x288 with 1 Axes>"
      ]
     },
     "metadata": {
      "needs_background": "light"
     },
     "output_type": "display_data"
    }
   ],
   "source": [
    "\n",
    "#Goals Against\n",
    "test_predictions = est.predict(df_test_clean.sort_values(by='GA'))\n",
    "plt.plot(df_test_clean.GA, actual_wins, 'o', color='black') #actual values\n",
    "plt.plot(df_test_clean.GA.sort_values(), test_predictions, color='blue')  #predicted\n",
    "plt.title(\"GA - Actuals vs. Regression line\")\n",
    "plt.xlabel('Goals Against')\n",
    "plt.ylabel('Total wins')\n",
    "\n"
   ]
  },
  {
   "cell_type": "code",
   "execution_count": 840,
   "metadata": {},
   "outputs": [
    {
     "data": {
      "text/plain": [
       "[<matplotlib.lines.Line2D at 0x18404e43b48>]"
      ]
     },
     "execution_count": 840,
     "metadata": {},
     "output_type": "execute_result"
    },
    {
     "data": {
      "text/plain": [
       "[<matplotlib.lines.Line2D at 0x18404e284c8>]"
      ]
     },
     "execution_count": 840,
     "metadata": {},
     "output_type": "execute_result"
    },
    {
     "data": {
      "text/plain": [
       "Text(0.5, 1.0, 'PPGA - Actuals vs. Regression line')"
      ]
     },
     "execution_count": 840,
     "metadata": {},
     "output_type": "execute_result"
    },
    {
     "data": {
      "text/plain": [
       "Text(0.5, 0, 'Power Play Goals Against')"
      ]
     },
     "execution_count": 840,
     "metadata": {},
     "output_type": "execute_result"
    },
    {
     "data": {
      "text/plain": [
       "Text(0, 0.5, 'Total wins')"
      ]
     },
     "execution_count": 840,
     "metadata": {},
     "output_type": "execute_result"
    },
    {
     "data": {
      "image/png": "[encoded data removed]",
      "text/plain": [
       "<Figure size 432x288 with 1 Axes>"
      ]
     },
     "metadata": {
      "needs_background": "light"
     },
     "output_type": "display_data"
    }
   ],
   "source": [
    "\n",
    "#Goals PPGA - Power Play Goals Against\n",
    "test_predictions = est.predict(df_test_clean.sort_values(by='PPGA'))\n",
    "plt.plot(df_test_clean.PPGA, actual_wins, 'o', color='black') #actual values\n",
    "plt.plot(df_test_clean.PPGA.sort_values(), test_predictions, color='blue')  #predicted\n",
    "plt.title(\"PPGA - Actuals vs. Regression line\")\n",
    "plt.xlabel('Power Play Goals Against')\n",
    "plt.ylabel('Total wins')\n"
   ]
  },
  {
   "cell_type": "code",
   "execution_count": 841,
   "metadata": {},
   "outputs": [
    {
     "data": {
      "text/plain": [
       "[<matplotlib.lines.Line2D at 0x18404eb5448>]"
      ]
     },
     "execution_count": 841,
     "metadata": {},
     "output_type": "execute_result"
    },
    {
     "data": {
      "text/plain": [
       "[<matplotlib.lines.Line2D at 0x18404e282c8>]"
      ]
     },
     "execution_count": 841,
     "metadata": {},
     "output_type": "execute_result"
    },
    {
     "data": {
      "text/plain": [
       "Text(0.5, 1.0, 'PKPCT - Actuals vs. Regression line')"
      ]
     },
     "execution_count": 841,
     "metadata": {},
     "output_type": "execute_result"
    },
    {
     "data": {
      "text/plain": [
       "Text(0.5, 0, 'Penalty Killing Percentage')"
      ]
     },
     "execution_count": 841,
     "metadata": {},
     "output_type": "execute_result"
    },
    {
     "data": {
      "text/plain": [
       "Text(0, 0.5, 'Total wins')"
      ]
     },
     "execution_count": 841,
     "metadata": {},
     "output_type": "execute_result"
    },
    {
     "data": {
      "image/png": "[encoded data removed]",
      "text/plain": [
       "<Figure size 432x288 with 1 Axes>"
      ]
     },
     "metadata": {
      "needs_background": "light"
     },
     "output_type": "display_data"
    }
   ],
   "source": [
    "\n",
    "#PKPCT - Penalty Killing Percentage\n",
    "test_predictions = est.predict(df_test_clean.sort_values(by='PKPCT'))\n",
    "plt.plot(df_test_clean.PKPCT, actual_wins, 'o', color='black') #actual values\n",
    "plt.plot(df_test_clean.PKPCT.sort_values(), test_predictions, color='blue')  #predicted\n",
    "plt.title(\"PKPCT - Actuals vs. Regression line\")\n",
    "plt.xlabel('Penalty Killing Percentage')\n",
    "plt.ylabel('Total wins')\n"
   ]
  },
  {
   "cell_type": "code",
   "execution_count": 842,
   "metadata": {},
   "outputs": [
    {
     "data": {
      "text/plain": [
       "[<matplotlib.lines.Line2D at 0x18404f305c8>]"
      ]
     },
     "execution_count": 842,
     "metadata": {},
     "output_type": "execute_result"
    },
    {
     "data": {
      "text/plain": [
       "[<matplotlib.lines.Line2D at 0x18404f52808>]"
      ]
     },
     "execution_count": 842,
     "metadata": {},
     "output_type": "execute_result"
    },
    {
     "data": {
      "text/plain": [
       "Text(0.5, 1.0, 'FG - Actuals vs. Regression line')"
      ]
     },
     "execution_count": 842,
     "metadata": {},
     "output_type": "execute_result"
    },
    {
     "data": {
      "text/plain": [
       "Text(0.5, 0, 'Games scored first')"
      ]
     },
     "execution_count": 842,
     "metadata": {},
     "output_type": "execute_result"
    },
    {
     "data": {
      "text/plain": [
       "Text(0, 0.5, 'Total wins')"
      ]
     },
     "execution_count": 842,
     "metadata": {},
     "output_type": "execute_result"
    },
    {
     "data": {
      "image/png": "[encoded data removed]",
      "text/plain": [
       "<Figure size 432x288 with 1 Axes>"
      ]
     },
     "metadata": {
      "needs_background": "light"
     },
     "output_type": "display_data"
    }
   ],
   "source": [
    "\n",
    "#FG - First Goal (Games scored first)\n",
    "test_predictions = est.predict(df_test_clean.sort_values(by='FG'))\n",
    "plt.plot(df_test_clean.FG, actual_wins, 'o', color='black') #actual values\n",
    "plt.plot(df_test_clean.FG.sort_values(), test_predictions, color='blue')  #predicted\n",
    "plt.title(\"FG - Actuals vs. Regression line\")\n",
    "plt.xlabel('Games scored first')\n",
    "plt.ylabel('Total wins')\n"
   ]
  },
  {
   "cell_type": "markdown",
   "metadata": {},
   "source": [
    "It's very interesting to see the general shape of the regression line as it really isn't linear. Our regression looks like: Y = beta_0 + beta_1*x_1 + beta_2*x_2 + beta_3*x_3 + beta_4*x_4 + beta_5*x_5. The equation here is actually linear, but in 2D plots it doesn't manifest that way. The line represented within our regression is actually linear but in R^5 space. \n",
    "\n",
    "Throughout the various plots thought you can see the regression actually is a pretty good predictor for wins based on the various parameters."
   ]
  },
  {
   "cell_type": "markdown",
   "metadata": {},
   "source": [
    "# 7. Observations and Recommendations"
   ]
  },
  {
   "cell_type": "markdown",
   "metadata": {},
   "source": [
    "Throughout the assignment and various sections I have been recording my observations, recommendations, and any other explanations as they were relevant. I'll try to include here any other important observations that I may have missed."
   ]
  },
  {
   "cell_type": "markdown",
   "metadata": {},
   "source": [
    "I think the biggest observation I had is that during the t-test there were some pieces of the data that really fit well. Mainly goals against and goals for which both had associated P-values below the 5% significance level. What this tells me is that those coefficients could really make up the regression themselves to accurately predict wins-at least for this data set. \n",
    "\n",
    "Items related to power plays and penalties did come into play a little, but did not have a significant impact on the data. Within the t-test we really weren't able to prove that the coefficients weren't actually zero (see model verification section). What this tells me is that power plays, while important weren't the largest factor in the game and can be overcome. An average hockey power play is only 2 minutes of a game. There are situations where 5 minute power plays are granted and those come with slightly different rules. It would be interesting to see the impact those have on total win count.\n",
    "\n",
    "Another observation I don't quite understand is the impact PCA has on the overall regression. Not shown within this assignment was that I initally did not remove any components from the regression. Generally this would cut down on your degrees of freedom for a linear fit and could result in a decrease of the fit for the regression. Here's the regression output for that:\n"
   ]
  },
  {
   "cell_type": "code",
   "execution_count": 843,
   "metadata": {},
   "outputs": [
    {
     "data": {
      "image/png": "[encoded data removed]",
      "text/plain": [
       "<IPython.core.display.Image object>"
      ]
     },
     "execution_count": 843,
     "metadata": {},
     "output_type": "execute_result"
    }
   ],
   "source": [
    "from IPython.display import Image\n",
    "Image(\"full_regression.png\")"
   ]
  },
  {
   "cell_type": "markdown",
   "metadata": {},
   "source": [
    "You can see that although it seems the R^2 and adjust R^2 values are better, the overall standard errors for the test are actually really bad. This would imply that no hypthesis testing or any confidence testing would really be of value. This seems as the place where too many components have created issues within the regression. \n",
    "\n",
    "Conversely I did run it also with JUST goals for (so single regression). That is shown below:"
   ]
  },
  {
   "cell_type": "code",
   "execution_count": 844,
   "metadata": {},
   "outputs": [
    {
     "data": {
      "image/png": "[encoded data removed]",
      "text/plain": [
       "<IPython.core.display.Image object>"
      ]
     },
     "execution_count": 844,
     "metadata": {},
     "output_type": "execute_result"
    }
   ],
   "source": [
    "Image(\"GF_regression.png\")"
   ]
  },
  {
   "cell_type": "markdown",
   "metadata": {},
   "source": [
    "It turns out using just goals for doesn't actually predict wins as well as initially thouhgt. We need more information to create a solid model. \n",
    "\n",
    "In general, I think while goals for and goals against do contribute mostly to the number of wins for a team, the other smaller factors are things commented on above-the power play success, so power play killing percentage, but also power play goals for and against. "
   ]
  },
  {
   "cell_type": "code",
   "execution_count": null,
   "metadata": {},
   "outputs": [],
   "source": []
  }
 ],
 "metadata": {
  "kernelspec": {
   "display_name": "Python 3",
   "language": "python",
   "name": "python3"
  },
  "language_info": {
   "codemirror_mode": {
    "name": "ipython",
    "version": 3
   },
   "file_extension": ".py",
   "mimetype": "text/x-python",
   "name": "python",
   "nbconvert_exporter": "python",
   "pygments_lexer": "ipython3",
   "version": "3.7.6"
  }
 },
 "nbformat": 4,
 "nbformat_minor": 4
}
